{
  "nbformat": 4,
  "nbformat_minor": 0,
  "metadata": {
    "colab": {
      "name": "ExtractiveSummarization.ipynb",
      "provenance": [],
      "collapsed_sections": [],
      "authorship_tag": "ABX9TyMSL1cqJftrbLgsEvphMxm3",
      "include_colab_link": true
    },
    "kernelspec": {
      "name": "python3",
      "display_name": "Python 3"
    },
    "language_info": {
      "name": "python"
    },
    "gpuClass": "standard"
  },
  "cells": [
    {
      "cell_type": "markdown",
      "metadata": {
        "id": "view-in-github",
        "colab_type": "text"
      },
      "source": [
        "<a href=\"https://colab.research.google.com/github/dlagur/ProjectHanium/blob/main/ExtractiveSummarization.ipynb\" target=\"_parent\"><img src=\"https://colab.research.google.com/assets/colab-badge.svg\" alt=\"Open In Colab\"/></a>"
      ]
    },
    {
      "cell_type": "code",
      "execution_count": 1,
      "metadata": {
        "colab": {
          "base_uri": "https://localhost:8080/"
        },
        "id": "r5No73X-nMhj",
        "outputId": "34e6972d-f560-4054-c922-202540a1baab"
      },
      "outputs": [
        {
          "output_type": "stream",
          "name": "stdout",
          "text": [
            "Looking in indexes: https://pypi.org/simple, https://us-python.pkg.dev/colab-wheels/public/simple/\n",
            "Requirement already satisfied: jpype1 in /usr/local/lib/python3.7/dist-packages (1.4.0)\n",
            "Requirement already satisfied: typing-extensions in /usr/local/lib/python3.7/dist-packages (from jpype1) (4.1.1)\n",
            "Looking in indexes: https://pypi.org/simple, https://us-python.pkg.dev/colab-wheels/public/simple/\n",
            "Requirement already satisfied: konlpy in /usr/local/lib/python3.7/dist-packages (0.6.0)\n",
            "Requirement already satisfied: numpy>=1.6 in /usr/local/lib/python3.7/dist-packages (from konlpy) (1.21.6)\n",
            "Requirement already satisfied: JPype1>=0.7.0 in /usr/local/lib/python3.7/dist-packages (from konlpy) (1.4.0)\n",
            "Requirement already satisfied: lxml>=4.1.0 in /usr/local/lib/python3.7/dist-packages (from konlpy) (4.2.6)\n",
            "Requirement already satisfied: typing-extensions in /usr/local/lib/python3.7/dist-packages (from JPype1>=0.7.0->konlpy) (4.1.1)\n"
          ]
        }
      ],
      "source": [
        "!pip install jpype1\n",
        "!pip install konlpy"
      ]
    },
    {
      "cell_type": "code",
      "source": [
        "from konlpy.tag import Kkma\n",
        "from konlpy.tag import Twitter\n",
        "from sklearn.feature_extraction.text import TfidfVectorizer\n",
        "from sklearn.feature_extraction.text import CountVectorizer\n",
        "from sklearn.preprocessing import normalize\n",
        "import numpy as np"
      ],
      "metadata": {
        "id": "dBOLVJ2unWA0"
      },
      "execution_count": 2,
      "outputs": []
    },
    {
      "cell_type": "code",
      "source": [
        "kkma = Kkma() # text를 문장단위로 나눈다\n",
        "\n",
        "def text2sentences(text):\n",
        "    sentences = kkma.sentences(text)\n",
        "    for idx in range(0, len(sentences)):\n",
        "        if len(sentences[idx]) <= 10:\n",
        "            sentences[idx-1] += (' ' + sentences[idx])\n",
        "            sentences[idx] = ''\n",
        "    return sentences"
      ],
      "metadata": {
        "id": "eyJRCr3cn0hI"
      },
      "execution_count": 3,
      "outputs": []
    },
    {
      "cell_type": "code",
      "source": [
        "import pandas as pd\n",
        "\n",
        "text = pd.read_csv('/content/IT_0.csv')"
      ],
      "metadata": {
        "id": "z2s_7UoHohsg"
      },
      "execution_count": 4,
      "outputs": []
    },
    {
      "cell_type": "code",
      "source": [
        "text"
      ],
      "metadata": {
        "id": "F70ukc24viFD",
        "colab": {
          "base_uri": "https://localhost:8080/",
          "height": 423
        },
        "outputId": "9ccc9aad-5d4b-4fa2-d793-99daf033fa8c"
      },
      "execution_count": 5,
      "outputs": [
        {
          "output_type": "execute_result",
          "data": {
            "text/plain": [
              "                                              question  \\\n",
              "0    [질문Q1.NC인턴십에지원하게된배경과인턴십을통해경험해보고싶은업무,얻고자하는바가있다면...   \n",
              "1    [질문Q1.자신에대해자유롭게표현해주세요.보기,질문Q2.희망하는지원분야를선택한이유와본...   \n",
              "2                            [질문Q1.본인에대해자유롭게서술해주세요.보기]   \n",
              "3    [질문Q1.MyCompetency지원분야와관련된구체적인지식이나경험을기술해주십시오.G...   \n",
              "4    [질문Q1.현대백화점그룹이지향하는4가지실천가치(열정/소통/창의/파트너십중택1)와부합...   \n",
              "..                                                 ...   \n",
              "195  [질문Q1.자신의성장과정과학창시절에대해기술하여주십시오.보기,질문Q2.지원직무관련자신...   \n",
              "196  [질문Q1.본인에대해간단히소개해주십시오보기,질문Q2.인베니아의인재상(“협업/창조/주...   \n",
              "197                            [질문Q1.역량보기,질문Q2.성장과정보기]   \n",
              "198  [질문Q1.본인의성장과정을기술하되현재의자신에게가장큰영향을끼친사건,인물등을포함하여기술...   \n",
              "199                    [질문Q1.지원동기보기,질문Q2.성격소개(장/단점)보기]   \n",
              "\n",
              "                                                answer  label  \n",
              "0    [학부연구생을 할 당시 연구실 홈페이지를 맡아 개발한 경험이 있으며 스프링부트와 템...      0  \n",
              "1    [\"Agile &amp; Active\"새로운 것을 배우는 데 적극적입니다. 학과 수...      0  \n",
              "2    [\"욕심에 더해 애착까지 가졌다면 이루지 못할 것은 없다\"저를 한 단어로 소개한다면...      0  \n",
              "3    [저는 학부 연구생을 하면서 연구실 홈페이지 개발 및 관리를 맡은 경험이 있습니다....      0  \n",
              "4    [열정 - 목표를 정하고 이를 달성하기 위해 몰입하는 과정을 통해 성과를 낸 경험이...      0  \n",
              "..                                                 ...    ...  \n",
              "195  [\"행동으로 보이는 융합적 사고\"고찰에 그치지 않고 행동으로 옮기는 태도를 키워왔습...      0  \n",
              "196  [\"반 려 OOO\"마당발이신 부모님께서는 어린 시절부터 사람과의 관계에 대한 중요성...      0  \n",
              "197  [대학 재학 동안 학업 외 프로젝트를 통해 C언어, C++, Python 등 다양한...      0  \n",
              "198  [\"내장된 책임감\"호주에서 한국인으로서 차별을 받으며 호텔 하우스 키핑을 한 경험이...      0  \n",
              "199  [제가 이지케어텍에 지원하게 동기는 ‘도전’과 ‘지속 발전’이라는 저의 가치관을 공...      0  \n",
              "\n",
              "[200 rows x 3 columns]"
            ],
            "text/html": [
              "\n",
              "  <div id=\"df-3e1e7270-d3fe-4579-87c5-2ffc460ec9ea\">\n",
              "    <div class=\"colab-df-container\">\n",
              "      <div>\n",
              "<style scoped>\n",
              "    .dataframe tbody tr th:only-of-type {\n",
              "        vertical-align: middle;\n",
              "    }\n",
              "\n",
              "    .dataframe tbody tr th {\n",
              "        vertical-align: top;\n",
              "    }\n",
              "\n",
              "    .dataframe thead th {\n",
              "        text-align: right;\n",
              "    }\n",
              "</style>\n",
              "<table border=\"1\" class=\"dataframe\">\n",
              "  <thead>\n",
              "    <tr style=\"text-align: right;\">\n",
              "      <th></th>\n",
              "      <th>question</th>\n",
              "      <th>answer</th>\n",
              "      <th>label</th>\n",
              "    </tr>\n",
              "  </thead>\n",
              "  <tbody>\n",
              "    <tr>\n",
              "      <th>0</th>\n",
              "      <td>[질문Q1.NC인턴십에지원하게된배경과인턴십을통해경험해보고싶은업무,얻고자하는바가있다면...</td>\n",
              "      <td>[학부연구생을 할 당시 연구실 홈페이지를 맡아 개발한 경험이 있으며 스프링부트와 템...</td>\n",
              "      <td>0</td>\n",
              "    </tr>\n",
              "    <tr>\n",
              "      <th>1</th>\n",
              "      <td>[질문Q1.자신에대해자유롭게표현해주세요.보기,질문Q2.희망하는지원분야를선택한이유와본...</td>\n",
              "      <td>[\"Agile &amp;amp; Active\"새로운 것을 배우는 데 적극적입니다. 학과 수...</td>\n",
              "      <td>0</td>\n",
              "    </tr>\n",
              "    <tr>\n",
              "      <th>2</th>\n",
              "      <td>[질문Q1.본인에대해자유롭게서술해주세요.보기]</td>\n",
              "      <td>[\"욕심에 더해 애착까지 가졌다면 이루지 못할 것은 없다\"저를 한 단어로 소개한다면...</td>\n",
              "      <td>0</td>\n",
              "    </tr>\n",
              "    <tr>\n",
              "      <th>3</th>\n",
              "      <td>[질문Q1.MyCompetency지원분야와관련된구체적인지식이나경험을기술해주십시오.G...</td>\n",
              "      <td>[저는 학부 연구생을 하면서 연구실 홈페이지 개발 및 관리를 맡은 경험이 있습니다....</td>\n",
              "      <td>0</td>\n",
              "    </tr>\n",
              "    <tr>\n",
              "      <th>4</th>\n",
              "      <td>[질문Q1.현대백화점그룹이지향하는4가지실천가치(열정/소통/창의/파트너십중택1)와부합...</td>\n",
              "      <td>[열정 - 목표를 정하고 이를 달성하기 위해 몰입하는 과정을 통해 성과를 낸 경험이...</td>\n",
              "      <td>0</td>\n",
              "    </tr>\n",
              "    <tr>\n",
              "      <th>...</th>\n",
              "      <td>...</td>\n",
              "      <td>...</td>\n",
              "      <td>...</td>\n",
              "    </tr>\n",
              "    <tr>\n",
              "      <th>195</th>\n",
              "      <td>[질문Q1.자신의성장과정과학창시절에대해기술하여주십시오.보기,질문Q2.지원직무관련자신...</td>\n",
              "      <td>[\"행동으로 보이는 융합적 사고\"고찰에 그치지 않고 행동으로 옮기는 태도를 키워왔습...</td>\n",
              "      <td>0</td>\n",
              "    </tr>\n",
              "    <tr>\n",
              "      <th>196</th>\n",
              "      <td>[질문Q1.본인에대해간단히소개해주십시오보기,질문Q2.인베니아의인재상(“협업/창조/주...</td>\n",
              "      <td>[\"반 려 OOO\"마당발이신 부모님께서는 어린 시절부터 사람과의 관계에 대한 중요성...</td>\n",
              "      <td>0</td>\n",
              "    </tr>\n",
              "    <tr>\n",
              "      <th>197</th>\n",
              "      <td>[질문Q1.역량보기,질문Q2.성장과정보기]</td>\n",
              "      <td>[대학 재학 동안 학업 외 프로젝트를 통해 C언어, C++, Python 등 다양한...</td>\n",
              "      <td>0</td>\n",
              "    </tr>\n",
              "    <tr>\n",
              "      <th>198</th>\n",
              "      <td>[질문Q1.본인의성장과정을기술하되현재의자신에게가장큰영향을끼친사건,인물등을포함하여기술...</td>\n",
              "      <td>[\"내장된 책임감\"호주에서 한국인으로서 차별을 받으며 호텔 하우스 키핑을 한 경험이...</td>\n",
              "      <td>0</td>\n",
              "    </tr>\n",
              "    <tr>\n",
              "      <th>199</th>\n",
              "      <td>[질문Q1.지원동기보기,질문Q2.성격소개(장/단점)보기]</td>\n",
              "      <td>[제가 이지케어텍에 지원하게 동기는 ‘도전’과 ‘지속 발전’이라는 저의 가치관을 공...</td>\n",
              "      <td>0</td>\n",
              "    </tr>\n",
              "  </tbody>\n",
              "</table>\n",
              "<p>200 rows × 3 columns</p>\n",
              "</div>\n",
              "      <button class=\"colab-df-convert\" onclick=\"convertToInteractive('df-3e1e7270-d3fe-4579-87c5-2ffc460ec9ea')\"\n",
              "              title=\"Convert this dataframe to an interactive table.\"\n",
              "              style=\"display:none;\">\n",
              "        \n",
              "  <svg xmlns=\"http://www.w3.org/2000/svg\" height=\"24px\"viewBox=\"0 0 24 24\"\n",
              "       width=\"24px\">\n",
              "    <path d=\"M0 0h24v24H0V0z\" fill=\"none\"/>\n",
              "    <path d=\"M18.56 5.44l.94 2.06.94-2.06 2.06-.94-2.06-.94-.94-2.06-.94 2.06-2.06.94zm-11 1L8.5 8.5l.94-2.06 2.06-.94-2.06-.94L8.5 2.5l-.94 2.06-2.06.94zm10 10l.94 2.06.94-2.06 2.06-.94-2.06-.94-.94-2.06-.94 2.06-2.06.94z\"/><path d=\"M17.41 7.96l-1.37-1.37c-.4-.4-.92-.59-1.43-.59-.52 0-1.04.2-1.43.59L10.3 9.45l-7.72 7.72c-.78.78-.78 2.05 0 2.83L4 21.41c.39.39.9.59 1.41.59.51 0 1.02-.2 1.41-.59l7.78-7.78 2.81-2.81c.8-.78.8-2.07 0-2.86zM5.41 20L4 18.59l7.72-7.72 1.47 1.35L5.41 20z\"/>\n",
              "  </svg>\n",
              "      </button>\n",
              "      \n",
              "  <style>\n",
              "    .colab-df-container {\n",
              "      display:flex;\n",
              "      flex-wrap:wrap;\n",
              "      gap: 12px;\n",
              "    }\n",
              "\n",
              "    .colab-df-convert {\n",
              "      background-color: #E8F0FE;\n",
              "      border: none;\n",
              "      border-radius: 50%;\n",
              "      cursor: pointer;\n",
              "      display: none;\n",
              "      fill: #1967D2;\n",
              "      height: 32px;\n",
              "      padding: 0 0 0 0;\n",
              "      width: 32px;\n",
              "    }\n",
              "\n",
              "    .colab-df-convert:hover {\n",
              "      background-color: #E2EBFA;\n",
              "      box-shadow: 0px 1px 2px rgba(60, 64, 67, 0.3), 0px 1px 3px 1px rgba(60, 64, 67, 0.15);\n",
              "      fill: #174EA6;\n",
              "    }\n",
              "\n",
              "    [theme=dark] .colab-df-convert {\n",
              "      background-color: #3B4455;\n",
              "      fill: #D2E3FC;\n",
              "    }\n",
              "\n",
              "    [theme=dark] .colab-df-convert:hover {\n",
              "      background-color: #434B5C;\n",
              "      box-shadow: 0px 1px 3px 1px rgba(0, 0, 0, 0.15);\n",
              "      filter: drop-shadow(0px 1px 2px rgba(0, 0, 0, 0.3));\n",
              "      fill: #FFFFFF;\n",
              "    }\n",
              "  </style>\n",
              "\n",
              "      <script>\n",
              "        const buttonEl =\n",
              "          document.querySelector('#df-3e1e7270-d3fe-4579-87c5-2ffc460ec9ea button.colab-df-convert');\n",
              "        buttonEl.style.display =\n",
              "          google.colab.kernel.accessAllowed ? 'block' : 'none';\n",
              "\n",
              "        async function convertToInteractive(key) {\n",
              "          const element = document.querySelector('#df-3e1e7270-d3fe-4579-87c5-2ffc460ec9ea');\n",
              "          const dataTable =\n",
              "            await google.colab.kernel.invokeFunction('convertToInteractive',\n",
              "                                                     [key], {});\n",
              "          if (!dataTable) return;\n",
              "\n",
              "          const docLinkHtml = 'Like what you see? Visit the ' +\n",
              "            '<a target=\"_blank\" href=https://colab.research.google.com/notebooks/data_table.ipynb>data table notebook</a>'\n",
              "            + ' to learn more about interactive tables.';\n",
              "          element.innerHTML = '';\n",
              "          dataTable['output_type'] = 'display_data';\n",
              "          await google.colab.output.renderOutput(dataTable, element);\n",
              "          const docLink = document.createElement('div');\n",
              "          docLink.innerHTML = docLinkHtml;\n",
              "          element.appendChild(docLink);\n",
              "        }\n",
              "      </script>\n",
              "    </div>\n",
              "  </div>\n",
              "  "
            ]
          },
          "metadata": {},
          "execution_count": 5
        }
      ]
    },
    {
      "cell_type": "code",
      "source": [
        "sentences = text2sentences(text['answer'][0])"
      ],
      "metadata": {
        "id": "K5lI-Sv0oT_U"
      },
      "execution_count": 6,
      "outputs": []
    },
    {
      "cell_type": "code",
      "source": [
        "sentences[0]"
      ],
      "metadata": {
        "id": "dJP9oNHAvqRO",
        "colab": {
          "base_uri": "https://localhost:8080/",
          "height": 35
        },
        "outputId": "3f3b4958-755c-4514-a1ee-5b69d215d638"
      },
      "execution_count": 39,
      "outputs": [
        {
          "output_type": "execute_result",
          "data": {
            "text/plain": [
              "'[ 학부연구 생을 할 당시 연구실 홈페이지를 맡아 개발한 경험이 있으며 스프링 부 트와 템플 릿 엔진을 사용하여 백오피스 기능을 개발하고 온 프 레 미스 환경에 배포했습니다.'"
            ],
            "application/vnd.google.colaboratory.intrinsic+json": {
              "type": "string"
            }
          },
          "metadata": {},
          "execution_count": 39
        }
      ]
    },
    {
      "cell_type": "code",
      "source": [
        "twitter = Twitter()\n",
        "\n",
        "# 불용어 제거\n",
        "\n",
        "stopwords = ['글자수', '000', '또한', '저는', '있습니다', '그리고', '이러한', '거나', '자수', '통해', '이후', '당시', '대한', '때문 ']\n",
        "\n",
        "def get_nouns(sentences):\n",
        "    nouns = []\n",
        "    for sentence in sentences:\n",
        "        if sentence is not '':\n",
        "            nouns.append(' '.join([noun for noun in twitter.nouns(str(sentence)) if noun not in stopwords and len(noun) > 1]))\n",
        "    return nouns"
      ],
      "metadata": {
        "colab": {
          "base_uri": "https://localhost:8080/"
        },
        "id": "K_gliHkWvwZ8",
        "outputId": "d4b8e0d9-160b-4823-dee2-aa6be45bb5cf"
      },
      "execution_count": 75,
      "outputs": [
        {
          "output_type": "stream",
          "name": "stderr",
          "text": [
            "/usr/local/lib/python3.7/dist-packages/konlpy/tag/_okt.py:17: UserWarning: \"Twitter\" has changed to \"Okt\" since KoNLPy v0.4.5.\n",
            "  warn('\"Twitter\" has changed to \"Okt\" since KoNLPy v0.4.5.')\n"
          ]
        }
      ]
    },
    {
      "cell_type": "code",
      "source": [
        "nouns = get_nouns(sentences)"
      ],
      "metadata": {
        "id": "8bDTk5hbw-AG"
      },
      "execution_count": 76,
      "outputs": []
    },
    {
      "cell_type": "code",
      "source": [
        "nouns"
      ],
      "metadata": {
        "id": "5DQ-4mEBxDVI",
        "colab": {
          "base_uri": "https://localhost:8080/"
        },
        "outputId": "9a3b2bf4-f6b5-449c-e5c4-5f1eadcbf0f3"
      },
      "execution_count": 77,
      "outputs": [
        {
          "output_type": "execute_result",
          "data": {
            "text/plain": [
              "['학부',\n",
              " '연구',\n",
              " '연구실',\n",
              " '홈페이지',\n",
              " '개발',\n",
              " '경험',\n",
              " '스프링',\n",
              " '템플',\n",
              " '엔진',\n",
              " '사용',\n",
              " '백오피스',\n",
              " '기능',\n",
              " '개발',\n",
              " '미스',\n",
              " '환경',\n",
              " '배포',\n",
              " '경험',\n",
              " '엔드',\n",
              " '흥미',\n",
              " '관심',\n",
              " '졸업',\n",
              " '프로젝트',\n",
              " '얼굴인식',\n",
              " '사용',\n",
              " '서비스',\n",
              " '엔드',\n",
              " '개발',\n",
              " '현재',\n",
              " '아키텍처',\n",
              " '기술',\n",
              " '관심',\n",
              " '기반',\n",
              " '토이',\n",
              " '프로젝트',\n",
              " '진행',\n",
              " '프로젝트',\n",
              " '진행',\n",
              " '기술',\n",
              " '관심',\n",
              " '경험',\n",
              " '혼자',\n",
              " '규모',\n",
              " '프로젝트',\n",
              " '사용',\n",
              " '도입',\n",
              " '기술',\n",
              " '한계',\n",
              " '인턴',\n",
              " '지원',\n",
              " '인턴',\n",
              " '방식',\n",
              " '실현',\n",
              " '로그',\n",
              " '방식',\n",
              " '수집',\n",
              " '배포',\n",
              " '자동화',\n",
              " '부분',\n",
              " '고민',\n",
              " '비교',\n",
              " '토이',\n",
              " '프로젝트',\n",
              " '진행',\n",
              " '프로젝트',\n",
              " '기반',\n",
              " '설계',\n",
              " '도메인',\n",
              " '고려',\n",
              " '마이크로',\n",
              " '서비스',\n",
              " '설계',\n",
              " '모델링',\n",
              " '마이크로',\n",
              " '서비스',\n",
              " '사이',\n",
              " '효율',\n",
              " '통신',\n",
              " '위해',\n",
              " '도입',\n",
              " '캐싱',\n",
              " '사용',\n",
              " '기술',\n",
              " '공부',\n",
              " '도입',\n",
              " '기술',\n",
              " '도입',\n",
              " '스프링',\n",
              " '부트',\n",
              " '의존',\n",
              " '피그',\n",
              " '설정',\n",
              " '스프링',\n",
              " '독스',\n",
              " '다시',\n",
              " '기존',\n",
              " '스프링',\n",
              " '개념',\n",
              " '공부',\n",
              " '시작',\n",
              " '개념',\n",
              " '파악',\n",
              " '시작',\n",
              " '때문',\n",
              " '공부',\n",
              " '프로젝트',\n",
              " '진행',\n",
              " '부분',\n",
              " '다시',\n",
              " '근간',\n",
              " '부분',\n",
              " '고민',\n",
              " '공부']"
            ]
          },
          "metadata": {},
          "execution_count": 77
        }
      ]
    },
    {
      "cell_type": "code",
      "source": [
        "nouns"
      ],
      "metadata": {
        "colab": {
          "base_uri": "https://localhost:8080/",
          "height": 35
        },
        "id": "8ZLCotMnZWWs",
        "outputId": "a1be989f-0e33-46ed-ea03-bba28af39335"
      },
      "execution_count": 33,
      "outputs": [
        {
          "output_type": "execute_result",
          "data": {
            "text/plain": [
              "' '"
            ],
            "application/vnd.google.colaboratory.intrinsic+json": {
              "type": "string"
            }
          },
          "metadata": {},
          "execution_count": 33
        }
      ]
    },
    {
      "cell_type": "markdown",
      "source": [
        "## TF-IDF 모델 생성 및 그래프 생성"
      ],
      "metadata": {
        "id": "W_a1SIPKy1sg"
      }
    },
    {
      "cell_type": "code",
      "source": [
        "tfidf = TfidfVectorizer()\n",
        "cnt_vec = CountVectorizer()\n",
        "graph_sentence = []"
      ],
      "metadata": {
        "id": "wfpHCsuBxc2I"
      },
      "execution_count": 13,
      "outputs": []
    },
    {
      "cell_type": "code",
      "source": [
        "def build_sent_graph(sentence):\n",
        "    tfidf_mat = tfidf.fit_transform(sentence).toarray()\n",
        "    graph_sentence = np.dot(tfidf_mat, tfidf_mat.T)\n",
        "    return graph_sentence\n",
        "\n",
        "sent_graph = build_sent_graph(nouns) # 요약할 문장 단위에 대한 sentence graph 생성"
      ],
      "metadata": {
        "id": "4NdIxidHx-g5"
      },
      "execution_count": 27,
      "outputs": []
    },
    {
      "cell_type": "code",
      "source": [
        "def build_words_graph(sentence):\n",
        "    cnt_vec_mat = normalize(cnt_vec.fit_transform(sentence).toarray().astype(float), axis =0)\n",
        "    vocab = cnt_vec.vocabulary_\n",
        "    return np.dot(cnt_vec_mat.T, cnt_vec_mat), {vocab[word] : word for word in vocab}\n",
        "\n",
        "words_graph, idx2word = build_words_graph(nouns)"
      ],
      "metadata": {
        "id": "eEkthF1ryhKN"
      },
      "execution_count": 28,
      "outputs": []
    },
    {
      "cell_type": "code",
      "source": [
        "words_graph"
      ],
      "metadata": {
        "id": "V6N8UM8GzdNg",
        "colab": {
          "base_uri": "https://localhost:8080/"
        },
        "outputId": "ef41b979-ecac-4aea-a598-0666a8f1d879"
      },
      "execution_count": 29,
      "outputs": [
        {
          "output_type": "execute_result",
          "data": {
            "text/plain": [
              "array([[1.        , 0.        , 0.        , ..., 0.        , 0.        ,\n",
              "        0.        ],\n",
              "       [0.        , 1.        , 0.77459667, ..., 0.89442719, 0.        ,\n",
              "        0.4472136 ],\n",
              "       [0.        , 0.77459667, 1.        , ..., 0.57735027, 0.        ,\n",
              "        0.57735027],\n",
              "       ...,\n",
              "       [0.        , 0.89442719, 0.57735027, ..., 1.        , 0.        ,\n",
              "        0.        ],\n",
              "       [0.        , 0.        , 0.        , ..., 0.        , 1.        ,\n",
              "        0.        ],\n",
              "       [0.        , 0.4472136 , 0.57735027, ..., 0.        , 0.        ,\n",
              "        1.        ]])"
            ]
          },
          "metadata": {},
          "execution_count": 29
        }
      ]
    },
    {
      "cell_type": "code",
      "source": [
        "idx2word"
      ],
      "metadata": {
        "id": "SQCL26a-zn4J",
        "colab": {
          "base_uri": "https://localhost:8080/"
        },
        "outputId": "5af66370-226c-423f-cb93-a062113ff955"
      },
      "execution_count": 30,
      "outputs": [
        {
          "output_type": "execute_result",
          "data": {
            "text/plain": [
              "{0: '개념',\n",
              " 1: '개발',\n",
              " 2: '경험',\n",
              " 3: '고려',\n",
              " 4: '고민',\n",
              " 5: '공부',\n",
              " 6: '관심',\n",
              " 7: '규모',\n",
              " 8: '근간',\n",
              " 9: '기능',\n",
              " 10: '기반',\n",
              " 11: '기술',\n",
              " 12: '기존',\n",
              " 13: '다시',\n",
              " 14: '도메인',\n",
              " 15: '도입',\n",
              " 16: '독스',\n",
              " 17: '로그',\n",
              " 18: '마이크로',\n",
              " 19: '모델링',\n",
              " 20: '미스',\n",
              " 21: '방식',\n",
              " 22: '배포',\n",
              " 23: '백오피스',\n",
              " 24: '부분',\n",
              " 25: '부트',\n",
              " 26: '비교',\n",
              " 27: '사용',\n",
              " 28: '사이',\n",
              " 29: '서비스',\n",
              " 30: '설계',\n",
              " 31: '설정',\n",
              " 32: '수집',\n",
              " 33: '스프링',\n",
              " 34: '시작',\n",
              " 35: '실현',\n",
              " 36: '아키텍처',\n",
              " 37: '얼굴인식',\n",
              " 38: '엔드',\n",
              " 39: '엔진',\n",
              " 40: '연구',\n",
              " 41: '연구실',\n",
              " 42: '위해',\n",
              " 43: '의존',\n",
              " 44: '인턴',\n",
              " 45: '자동화',\n",
              " 46: '졸업',\n",
              " 47: '지원',\n",
              " 48: '진행',\n",
              " 49: '캐싱',\n",
              " 50: '템플',\n",
              " 51: '토이',\n",
              " 52: '통신',\n",
              " 53: '파악',\n",
              " 54: '프로젝트',\n",
              " 55: '피그',\n",
              " 56: '학부',\n",
              " 57: '한계',\n",
              " 58: '현재',\n",
              " 59: '혼자',\n",
              " 60: '홈페이지',\n",
              " 61: '환경',\n",
              " 62: '효율',\n",
              " 63: '흥미'}"
            ]
          },
          "metadata": {},
          "execution_count": 30
        }
      ]
    },
    {
      "cell_type": "markdown",
      "source": [
        "### 순서\n",
        "\n",
        "1.   위에서 구한 가중치 그래프 이용 TextRank 알고리즘에 넣어 점수 매기기\n",
        "2.   순위가 높은 순서대로 정렬\n",
        "3.   요약할 문장의 개수만큼 출력\n",
        "\n"
      ],
      "metadata": {
        "id": "MFy8ChWpzvvw"
      }
    },
    {
      "cell_type": "code",
      "source": [
        "def get_ranks(graph, d=0.85): # d = damping factor\n",
        "    A = graph\n",
        "    matrix_size = A.shape[0]\n",
        "    for id in range(matrix_size):\n",
        "        A[id, id] = 0 # diagonal 부분을 0으로\n",
        "        link_sum = np.sum(A[:,id]) # A[;, id] = A[:][id]\n",
        "        if link_sum != 0:\n",
        "            A[:, id] /= link_sum\n",
        "        A[:, id] *= -d\n",
        "        A[id, id] = 1\n",
        "        \n",
        "    B = (1-d) * np.ones((matrix_size, 1))\n",
        "    ranks = np.linalg.solve(A, B) # 연립방정식 Ax = b\n",
        "    return {idx : r[0] for idx, r in enumerate(ranks)}"
      ],
      "metadata": {
        "id": "Y-dDATauzsJ7"
      },
      "execution_count": null,
      "outputs": []
    },
    {
      "cell_type": "code",
      "source": [
        "# sent_rank_idx = get_ranks(sent_graph) # sent_graph = sentence 가중치 그래프\n",
        "word_rank_idx = get_ranks(words_graph)"
      ],
      "metadata": {
        "id": "OBOYxgxe1Dma"
      },
      "execution_count": null,
      "outputs": []
    },
    {
      "cell_type": "code",
      "source": [
        "# sorted_sent_rank_idx = sorted(sent_rank_idx, key=lambda k: sent_rank_idx[k], reverse=True)\n",
        "sorted_word_rank_idx = sorted(word_rank_idx, key=lambda k : word_rank_idx[k], reverse=True)"
      ],
      "metadata": {
        "id": "k-6VRSfO529T"
      },
      "execution_count": null,
      "outputs": []
    },
    {
      "cell_type": "code",
      "source": [
        "# 요약할 문장의 수를 입력하면 그 문장의 개수만큼 요약\n",
        "\n",
        "def summarize(sent_num=5): # 기본 5개의 문장으로 텍스트를 요약\n",
        "    summary = []\n",
        "    index = []\n",
        "    for idx in sorted_sent_rank_idx[:sent_num]:\n",
        "        index.append(idx)\n",
        "    \n",
        "    index.sort()\n",
        "\n",
        "    for idx in index:\n",
        "        summary.append(sentences[idx])\n",
        "\n",
        "    for text in summary:\n",
        "        print(text)\n",
        "        print('\\n')"
      ],
      "metadata": {
        "id": "u_amHqfj3ExA"
      },
      "execution_count": null,
      "outputs": []
    },
    {
      "cell_type": "code",
      "source": [
        "text['answer'][0]"
      ],
      "metadata": {
        "id": "TgdWlA6u90zp"
      },
      "execution_count": null,
      "outputs": []
    },
    {
      "cell_type": "code",
      "source": [
        "def keywords(word_num=10):\n",
        "\n",
        "    keywords = []\n",
        "    index = []\n",
        "    for idx in sorted_word_rank_idx[:word_num]:\n",
        "        index.append(idx)\n",
        "\n",
        "    # index.sort()\n",
        "    for idx in index:\n",
        "        keywords.append(idx2word[idx])\n",
        "\n",
        "    print(keywords)\n"
      ],
      "metadata": {
        "id": "kRO79WMm3Irw"
      },
      "execution_count": null,
      "outputs": []
    },
    {
      "cell_type": "code",
      "source": [
        "keywords()"
      ],
      "metadata": {
        "id": "oDSMDVZM-wui"
      },
      "execution_count": null,
      "outputs": []
    }
  ]
}
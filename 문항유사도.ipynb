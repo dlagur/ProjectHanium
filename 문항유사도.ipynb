{
  "nbformat": 4,
  "nbformat_minor": 0,
  "metadata": {
    "colab": {
      "name": "문항유사도.ipynb",
      "provenance": [],
      "mount_file_id": "1WRjyAa_27L7pkxVPEKP8i8-2S0W9TggH",
      "authorship_tag": "ABX9TyMmLAyqnTD7asYnXYsvgmmM",
      "include_colab_link": true
    },
    "kernelspec": {
      "name": "python3",
      "display_name": "Python 3"
    },
    "language_info": {
      "name": "python"
    }
  },
  "cells": [
    {
      "cell_type": "markdown",
      "metadata": {
        "id": "view-in-github",
        "colab_type": "text"
      },
      "source": [
        "<a href=\"https://colab.research.google.com/github/dlagur/ProjectHanium/blob/main/%EB%AC%B8%ED%95%AD%EC%9C%A0%EC%82%AC%EB%8F%84.ipynb\" target=\"_parent\"><img src=\"https://colab.research.google.com/assets/colab-badge.svg\" alt=\"Open In Colab\"/></a>"
      ]
    },
    {
      "cell_type": "code",
      "execution_count": 1,
      "metadata": {
        "colab": {
          "base_uri": "https://localhost:8080/",
          "height": 191
        },
        "id": "ESlCq5lgQ2Ml",
        "outputId": "981eeac4-88e2-4fd4-f4fc-91ff7cf35f85"
      },
      "outputs": [
        {
          "output_type": "execute_result",
          "data": {
            "text/plain": [
              "                                            question  \\\n",
              "0  [질문Q1.삼성전자를지원한이유와입사후회사에서이루고싶은꿈을기술하십시오보기,질문Q2.본...   \n",
              "1  [질문Q1.왜‘LG이노텍’을선택하여지원했는지와일하고싶은분야및이유를기술하시오.보기,질...   \n",
              "\n",
              "                                              answer    company  \n",
              "0  [\"데이터를 통한 초기 수율 확보\"1학년 때 산업공학 동아리에서 ‘앙상블 학습을 통...  [삼성전자(주)]  \n",
              "1  [\"버팀목과 버팀목\"어지간한 사람들은 때가 되면 자신의 반평생을 함께할 직장을 가지...   [LG 이노텍]  "
            ],
            "text/html": [
              "\n",
              "  <div id=\"df-72ae4bf4-2f23-42a6-959c-fcfbeb2c5873\">\n",
              "    <div class=\"colab-df-container\">\n",
              "      <div>\n",
              "<style scoped>\n",
              "    .dataframe tbody tr th:only-of-type {\n",
              "        vertical-align: middle;\n",
              "    }\n",
              "\n",
              "    .dataframe tbody tr th {\n",
              "        vertical-align: top;\n",
              "    }\n",
              "\n",
              "    .dataframe thead th {\n",
              "        text-align: right;\n",
              "    }\n",
              "</style>\n",
              "<table border=\"1\" class=\"dataframe\">\n",
              "  <thead>\n",
              "    <tr style=\"text-align: right;\">\n",
              "      <th></th>\n",
              "      <th>question</th>\n",
              "      <th>answer</th>\n",
              "      <th>company</th>\n",
              "    </tr>\n",
              "  </thead>\n",
              "  <tbody>\n",
              "    <tr>\n",
              "      <th>0</th>\n",
              "      <td>[질문Q1.삼성전자를지원한이유와입사후회사에서이루고싶은꿈을기술하십시오보기,질문Q2.본...</td>\n",
              "      <td>[\"데이터를 통한 초기 수율 확보\"1학년 때 산업공학 동아리에서 ‘앙상블 학습을 통...</td>\n",
              "      <td>[삼성전자(주)]</td>\n",
              "    </tr>\n",
              "    <tr>\n",
              "      <th>1</th>\n",
              "      <td>[질문Q1.왜‘LG이노텍’을선택하여지원했는지와일하고싶은분야및이유를기술하시오.보기,질...</td>\n",
              "      <td>[\"버팀목과 버팀목\"어지간한 사람들은 때가 되면 자신의 반평생을 함께할 직장을 가지...</td>\n",
              "      <td>[LG 이노텍]</td>\n",
              "    </tr>\n",
              "  </tbody>\n",
              "</table>\n",
              "</div>\n",
              "      <button class=\"colab-df-convert\" onclick=\"convertToInteractive('df-72ae4bf4-2f23-42a6-959c-fcfbeb2c5873')\"\n",
              "              title=\"Convert this dataframe to an interactive table.\"\n",
              "              style=\"display:none;\">\n",
              "        \n",
              "  <svg xmlns=\"http://www.w3.org/2000/svg\" height=\"24px\"viewBox=\"0 0 24 24\"\n",
              "       width=\"24px\">\n",
              "    <path d=\"M0 0h24v24H0V0z\" fill=\"none\"/>\n",
              "    <path d=\"M18.56 5.44l.94 2.06.94-2.06 2.06-.94-2.06-.94-.94-2.06-.94 2.06-2.06.94zm-11 1L8.5 8.5l.94-2.06 2.06-.94-2.06-.94L8.5 2.5l-.94 2.06-2.06.94zm10 10l.94 2.06.94-2.06 2.06-.94-2.06-.94-.94-2.06-.94 2.06-2.06.94z\"/><path d=\"M17.41 7.96l-1.37-1.37c-.4-.4-.92-.59-1.43-.59-.52 0-1.04.2-1.43.59L10.3 9.45l-7.72 7.72c-.78.78-.78 2.05 0 2.83L4 21.41c.39.39.9.59 1.41.59.51 0 1.02-.2 1.41-.59l7.78-7.78 2.81-2.81c.8-.78.8-2.07 0-2.86zM5.41 20L4 18.59l7.72-7.72 1.47 1.35L5.41 20z\"/>\n",
              "  </svg>\n",
              "      </button>\n",
              "      \n",
              "  <style>\n",
              "    .colab-df-container {\n",
              "      display:flex;\n",
              "      flex-wrap:wrap;\n",
              "      gap: 12px;\n",
              "    }\n",
              "\n",
              "    .colab-df-convert {\n",
              "      background-color: #E8F0FE;\n",
              "      border: none;\n",
              "      border-radius: 50%;\n",
              "      cursor: pointer;\n",
              "      display: none;\n",
              "      fill: #1967D2;\n",
              "      height: 32px;\n",
              "      padding: 0 0 0 0;\n",
              "      width: 32px;\n",
              "    }\n",
              "\n",
              "    .colab-df-convert:hover {\n",
              "      background-color: #E2EBFA;\n",
              "      box-shadow: 0px 1px 2px rgba(60, 64, 67, 0.3), 0px 1px 3px 1px rgba(60, 64, 67, 0.15);\n",
              "      fill: #174EA6;\n",
              "    }\n",
              "\n",
              "    [theme=dark] .colab-df-convert {\n",
              "      background-color: #3B4455;\n",
              "      fill: #D2E3FC;\n",
              "    }\n",
              "\n",
              "    [theme=dark] .colab-df-convert:hover {\n",
              "      background-color: #434B5C;\n",
              "      box-shadow: 0px 1px 3px 1px rgba(0, 0, 0, 0.15);\n",
              "      filter: drop-shadow(0px 1px 2px rgba(0, 0, 0, 0.3));\n",
              "      fill: #FFFFFF;\n",
              "    }\n",
              "  </style>\n",
              "\n",
              "      <script>\n",
              "        const buttonEl =\n",
              "          document.querySelector('#df-72ae4bf4-2f23-42a6-959c-fcfbeb2c5873 button.colab-df-convert');\n",
              "        buttonEl.style.display =\n",
              "          google.colab.kernel.accessAllowed ? 'block' : 'none';\n",
              "\n",
              "        async function convertToInteractive(key) {\n",
              "          const element = document.querySelector('#df-72ae4bf4-2f23-42a6-959c-fcfbeb2c5873');\n",
              "          const dataTable =\n",
              "            await google.colab.kernel.invokeFunction('convertToInteractive',\n",
              "                                                     [key], {});\n",
              "          if (!dataTable) return;\n",
              "\n",
              "          const docLinkHtml = 'Like what you see? Visit the ' +\n",
              "            '<a target=\"_blank\" href=https://colab.research.google.com/notebooks/data_table.ipynb>data table notebook</a>'\n",
              "            + ' to learn more about interactive tables.';\n",
              "          element.innerHTML = '';\n",
              "          dataTable['output_type'] = 'display_data';\n",
              "          await google.colab.output.renderOutput(dataTable, element);\n",
              "          const docLink = document.createElement('div');\n",
              "          docLink.innerHTML = docLinkHtml;\n",
              "          element.appendChild(docLink);\n",
              "        }\n",
              "      </script>\n",
              "    </div>\n",
              "  </div>\n",
              "  "
            ]
          },
          "metadata": {},
          "execution_count": 1
        }
      ],
      "source": [
        "import pandas as pd\n",
        "from sklearn.feature_extraction.text import TfidfVectorizer\n",
        "from sklearn.metrics.pairwise import cosine_similarity\n",
        "\n",
        "data = pd.read_csv('/content/연구개발.설계.csv', low_memory=True)\n",
        "data.head(2)"
      ]
    },
    {
      "cell_type": "code",
      "source": [
        "data['question']"
      ],
      "metadata": {
        "colab": {
          "base_uri": "https://localhost:8080/"
        },
        "id": "jQKbS87_n9-v",
        "outputId": "f40f8086-1c3c-4067-eb46-f293254e7df5"
      },
      "execution_count": 2,
      "outputs": [
        {
          "output_type": "execute_result",
          "data": {
            "text/plain": [
              "0      [질문Q1.삼성전자를지원한이유와입사후회사에서이루고싶은꿈을기술하십시오보기,질문Q2.본...\n",
              "1      [질문Q1.왜‘LG이노텍’을선택하여지원했는지와일하고싶은분야및이유를기술하시오.보기,질...\n",
              "2      [질문Q1.한국철도에지원하게된동기와입사후10년뒤지원직무와관련한본인의진로계획에대해서작...\n",
              "3      [질문Q1.본인이소속된조직(학과,인턴,동아리,프로젝트등)의목표를달성하기위해노력했던경...\n",
              "4      [질문Q1.삼성메디슨을지원한이유와입사후회사에서이루고싶은꿈을기술하십시오.보기,질문Q2...\n",
              "                             ...                        \n",
              "195    [질문Q1.자신의성장과정,성격의장단점을서술하시오.보기,질문Q2.지금까지살아오면서성공...\n",
              "196    [질문Q1.삼성전자를지원한이유와입사후회사에서이루고싶은꿈을기술하십시오.(700자)보기...\n",
              "197    [질문Q1.특별히뷰웍스를선택한이유와입사후포부에대해기술해주십시오.(최소100자,최대8...\n",
              "198    [질문Q1.삼성메디슨취업을선택한이유와목표보기,질문Q2.성장배경및본인의성격(학교생활및...\n",
              "199    [질문Q1.경력및경험기술서(1000자이내로기입.단,해당자에한함)*입력시,본인의신분이...\n",
              "Name: question, Length: 200, dtype: object"
            ]
          },
          "metadata": {},
          "execution_count": 2
        }
      ]
    },
    {
      "cell_type": "code",
      "source": [
        "pip install git+https://github.com/haven-jeon/PyKoSpacing.git"
      ],
      "metadata": {
        "colab": {
          "base_uri": "https://localhost:8080/",
          "height": 1000
        },
        "id": "AY7w7hG4gN_N",
        "outputId": "a6b9599a-d53f-41c7-eb93-3fbf30a6d005"
      },
      "execution_count": 16,
      "outputs": [
        {
          "output_type": "stream",
          "name": "stdout",
          "text": [
            "Looking in indexes: https://pypi.org/simple, https://us-python.pkg.dev/colab-wheels/public/simple/\n",
            "Collecting git+https://github.com/haven-jeon/PyKoSpacing.git\n",
            "  Cloning https://github.com/haven-jeon/PyKoSpacing.git to /tmp/pip-req-build-q2w3wmfo\n",
            "  Running command git clone -q https://github.com/haven-jeon/PyKoSpacing.git /tmp/pip-req-build-q2w3wmfo\n",
            "Collecting tensorflow==2.7.2\n",
            "  Downloading https://us-python.pkg.dev/colab-wheels/public/tensorflow/tensorflow-2.7.2%2Bzzzcolab20220516114640-cp37-cp37m-linux_x86_64.whl (671.4 MB)\n",
            "\u001b[K     |████████████████████████████████| 671.4 MB 1.6 kB/s \n",
            "\u001b[?25hRequirement already satisfied: h5py==3.1.0 in /usr/local/lib/python3.7/dist-packages (from pykospacing==0.5) (3.1.0)\n",
            "Collecting argparse>=1.4.0\n",
            "  Downloading argparse-1.4.0-py2.py3-none-any.whl (23 kB)\n",
            "Requirement already satisfied: numpy>=1.14.5 in /usr/local/lib/python3.7/dist-packages (from h5py==3.1.0->pykospacing==0.5) (1.21.6)\n",
            "Requirement already satisfied: cached-property in /usr/local/lib/python3.7/dist-packages (from h5py==3.1.0->pykospacing==0.5) (1.5.2)\n",
            "Requirement already satisfied: absl-py>=0.4.0 in /usr/local/lib/python3.7/dist-packages (from tensorflow==2.7.2->pykospacing==0.5) (1.1.0)\n",
            "Requirement already satisfied: wheel<1.0,>=0.32.0 in /usr/local/lib/python3.7/dist-packages (from tensorflow==2.7.2->pykospacing==0.5) (0.37.1)\n",
            "Requirement already satisfied: tensorflow-io-gcs-filesystem>=0.21.0 in /usr/local/lib/python3.7/dist-packages (from tensorflow==2.7.2->pykospacing==0.5) (0.26.0)\n",
            "Requirement already satisfied: keras-preprocessing>=1.1.1 in /usr/local/lib/python3.7/dist-packages (from tensorflow==2.7.2->pykospacing==0.5) (1.1.2)\n",
            "Requirement already satisfied: astunparse>=1.6.0 in /usr/local/lib/python3.7/dist-packages (from tensorflow==2.7.2->pykospacing==0.5) (1.6.3)\n",
            "Requirement already satisfied: termcolor>=1.1.0 in /usr/local/lib/python3.7/dist-packages (from tensorflow==2.7.2->pykospacing==0.5) (1.1.0)\n",
            "Requirement already satisfied: six>=1.12.0 in /usr/local/lib/python3.7/dist-packages (from tensorflow==2.7.2->pykospacing==0.5) (1.15.0)\n",
            "Requirement already satisfied: opt-einsum>=2.3.2 in /usr/local/lib/python3.7/dist-packages (from tensorflow==2.7.2->pykospacing==0.5) (3.3.0)\n",
            "Collecting gast<0.5.0,>=0.2.1\n",
            "  Downloading gast-0.4.0-py3-none-any.whl (9.8 kB)\n",
            "Requirement already satisfied: flatbuffers<3.0,>=1.12 in /usr/local/lib/python3.7/dist-packages (from tensorflow==2.7.2->pykospacing==0.5) (2.0)\n",
            "Requirement already satisfied: tensorboard~=2.6 in /usr/local/lib/python3.7/dist-packages (from tensorflow==2.7.2->pykospacing==0.5) (2.8.0)\n",
            "Collecting tensorflow-estimator<2.8,~=2.7.0rc0\n",
            "  Downloading tensorflow_estimator-2.7.0-py2.py3-none-any.whl (463 kB)\n",
            "\u001b[K     |████████████████████████████████| 463 kB 7.2 MB/s \n",
            "\u001b[?25hRequirement already satisfied: wrapt>=1.11.0 in /usr/local/lib/python3.7/dist-packages (from tensorflow==2.7.2->pykospacing==0.5) (1.14.1)\n",
            "Collecting keras<2.8,>=2.7.0rc0\n",
            "  Downloading keras-2.7.0-py2.py3-none-any.whl (1.3 MB)\n",
            "\u001b[K     |████████████████████████████████| 1.3 MB 36.5 MB/s \n",
            "\u001b[?25hRequirement already satisfied: libclang>=9.0.1 in /usr/local/lib/python3.7/dist-packages (from tensorflow==2.7.2->pykospacing==0.5) (14.0.1)\n",
            "Requirement already satisfied: grpcio<2.0,>=1.24.3 in /usr/local/lib/python3.7/dist-packages (from tensorflow==2.7.2->pykospacing==0.5) (1.47.0)\n",
            "Requirement already satisfied: google-pasta>=0.1.1 in /usr/local/lib/python3.7/dist-packages (from tensorflow==2.7.2->pykospacing==0.5) (0.2.0)\n",
            "Requirement already satisfied: protobuf>=3.9.2 in /usr/local/lib/python3.7/dist-packages (from tensorflow==2.7.2->pykospacing==0.5) (3.17.3)\n",
            "Requirement already satisfied: typing-extensions>=3.6.6 in /usr/local/lib/python3.7/dist-packages (from tensorflow==2.7.2->pykospacing==0.5) (4.1.1)\n",
            "Requirement already satisfied: tensorboard-plugin-wit>=1.6.0 in /usr/local/lib/python3.7/dist-packages (from tensorboard~=2.6->tensorflow==2.7.2->pykospacing==0.5) (1.8.1)\n",
            "Requirement already satisfied: google-auth<3,>=1.6.3 in /usr/local/lib/python3.7/dist-packages (from tensorboard~=2.6->tensorflow==2.7.2->pykospacing==0.5) (1.35.0)\n",
            "Requirement already satisfied: requests<3,>=2.21.0 in /usr/local/lib/python3.7/dist-packages (from tensorboard~=2.6->tensorflow==2.7.2->pykospacing==0.5) (2.23.0)\n",
            "Requirement already satisfied: werkzeug>=0.11.15 in /usr/local/lib/python3.7/dist-packages (from tensorboard~=2.6->tensorflow==2.7.2->pykospacing==0.5) (1.0.1)\n",
            "Requirement already satisfied: setuptools>=41.0.0 in /usr/local/lib/python3.7/dist-packages (from tensorboard~=2.6->tensorflow==2.7.2->pykospacing==0.5) (57.4.0)\n",
            "Requirement already satisfied: markdown>=2.6.8 in /usr/local/lib/python3.7/dist-packages (from tensorboard~=2.6->tensorflow==2.7.2->pykospacing==0.5) (3.3.7)\n",
            "Requirement already satisfied: tensorboard-data-server<0.7.0,>=0.6.0 in /usr/local/lib/python3.7/dist-packages (from tensorboard~=2.6->tensorflow==2.7.2->pykospacing==0.5) (0.6.1)\n",
            "Requirement already satisfied: google-auth-oauthlib<0.5,>=0.4.1 in /usr/local/lib/python3.7/dist-packages (from tensorboard~=2.6->tensorflow==2.7.2->pykospacing==0.5) (0.4.6)\n",
            "Requirement already satisfied: cachetools<5.0,>=2.0.0 in /usr/local/lib/python3.7/dist-packages (from google-auth<3,>=1.6.3->tensorboard~=2.6->tensorflow==2.7.2->pykospacing==0.5) (4.2.4)\n",
            "Requirement already satisfied: rsa<5,>=3.1.4 in /usr/local/lib/python3.7/dist-packages (from google-auth<3,>=1.6.3->tensorboard~=2.6->tensorflow==2.7.2->pykospacing==0.5) (4.8)\n",
            "Requirement already satisfied: pyasn1-modules>=0.2.1 in /usr/local/lib/python3.7/dist-packages (from google-auth<3,>=1.6.3->tensorboard~=2.6->tensorflow==2.7.2->pykospacing==0.5) (0.2.8)\n",
            "Requirement already satisfied: requests-oauthlib>=0.7.0 in /usr/local/lib/python3.7/dist-packages (from google-auth-oauthlib<0.5,>=0.4.1->tensorboard~=2.6->tensorflow==2.7.2->pykospacing==0.5) (1.3.1)\n",
            "Requirement already satisfied: importlib-metadata>=4.4 in /usr/local/lib/python3.7/dist-packages (from markdown>=2.6.8->tensorboard~=2.6->tensorflow==2.7.2->pykospacing==0.5) (4.12.0)\n",
            "Requirement already satisfied: zipp>=0.5 in /usr/local/lib/python3.7/dist-packages (from importlib-metadata>=4.4->markdown>=2.6.8->tensorboard~=2.6->tensorflow==2.7.2->pykospacing==0.5) (3.8.0)\n",
            "Requirement already satisfied: pyasn1<0.5.0,>=0.4.6 in /usr/local/lib/python3.7/dist-packages (from pyasn1-modules>=0.2.1->google-auth<3,>=1.6.3->tensorboard~=2.6->tensorflow==2.7.2->pykospacing==0.5) (0.4.8)\n",
            "Requirement already satisfied: urllib3!=1.25.0,!=1.25.1,<1.26,>=1.21.1 in /usr/local/lib/python3.7/dist-packages (from requests<3,>=2.21.0->tensorboard~=2.6->tensorflow==2.7.2->pykospacing==0.5) (1.24.3)\n",
            "Requirement already satisfied: idna<3,>=2.5 in /usr/local/lib/python3.7/dist-packages (from requests<3,>=2.21.0->tensorboard~=2.6->tensorflow==2.7.2->pykospacing==0.5) (2.10)\n",
            "Requirement already satisfied: chardet<4,>=3.0.2 in /usr/local/lib/python3.7/dist-packages (from requests<3,>=2.21.0->tensorboard~=2.6->tensorflow==2.7.2->pykospacing==0.5) (3.0.4)\n",
            "Requirement already satisfied: certifi>=2017.4.17 in /usr/local/lib/python3.7/dist-packages (from requests<3,>=2.21.0->tensorboard~=2.6->tensorflow==2.7.2->pykospacing==0.5) (2022.6.15)\n",
            "Requirement already satisfied: oauthlib>=3.0.0 in /usr/local/lib/python3.7/dist-packages (from requests-oauthlib>=0.7.0->google-auth-oauthlib<0.5,>=0.4.1->tensorboard~=2.6->tensorflow==2.7.2->pykospacing==0.5) (3.2.0)\n",
            "Building wheels for collected packages: pykospacing\n",
            "  Building wheel for pykospacing (setup.py) ... \u001b[?25l\u001b[?25hdone\n",
            "  Created wheel for pykospacing: filename=pykospacing-0.5-py3-none-any.whl size=2268577 sha256=05e2d562e2ef635f31a3e1d1c145cafe8808c7f1c04c139182283d510a52ee4c\n",
            "  Stored in directory: /tmp/pip-ephem-wheel-cache-cj_9yibh/wheels/9b/93/81/a2a7dc8c66ede5bf30634d20635f32b95eac7ca2ea8844058b\n",
            "Successfully built pykospacing\n",
            "Installing collected packages: tensorflow-estimator, keras, gast, tensorflow, argparse, pykospacing\n",
            "  Attempting uninstall: tensorflow-estimator\n",
            "    Found existing installation: tensorflow-estimator 2.8.0\n",
            "    Uninstalling tensorflow-estimator-2.8.0:\n",
            "      Successfully uninstalled tensorflow-estimator-2.8.0\n",
            "  Attempting uninstall: keras\n",
            "    Found existing installation: keras 2.8.0\n",
            "    Uninstalling keras-2.8.0:\n",
            "      Successfully uninstalled keras-2.8.0\n",
            "  Attempting uninstall: gast\n",
            "    Found existing installation: gast 0.5.3\n",
            "    Uninstalling gast-0.5.3:\n",
            "      Successfully uninstalled gast-0.5.3\n",
            "  Attempting uninstall: tensorflow\n",
            "    Found existing installation: tensorflow 2.8.2+zzzcolab20220527125636\n",
            "    Uninstalling tensorflow-2.8.2+zzzcolab20220527125636:\n",
            "      Successfully uninstalled tensorflow-2.8.2+zzzcolab20220527125636\n",
            "Successfully installed argparse-1.4.0 gast-0.4.0 keras-2.7.0 pykospacing-0.5 tensorflow-2.7.2+zzzcolab20220516114640 tensorflow-estimator-2.7.0\n"
          ]
        },
        {
          "output_type": "display_data",
          "data": {
            "application/vnd.colab-display-data+json": {
              "pip_warning": {
                "packages": [
                  "argparse"
                ]
              }
            }
          },
          "metadata": {}
        }
      ]
    },
    {
      "cell_type": "code",
      "source": [
        "from pykospacing import Spacing\n",
        "spacing = Spacing()\n",
        "\n",
        "for i in range(200):\n",
        "    data['question'][i] = spacing(data['question'][i]) \n",
        "\n",
        "print(data['question'])"
      ],
      "metadata": {
        "colab": {
          "base_uri": "https://localhost:8080/"
        },
        "id": "PUUOAoLpgPDo",
        "outputId": "6a9dbbba-8825-4cc5-9324-b931182e0f0a"
      },
      "execution_count": 3,
      "outputs": [
        {
          "output_type": "stream",
          "name": "stdout",
          "text": [
            "0      [질문 Q1. 삼성전자를 지원한 이유와 입사 후 회사에서 이루고 싶은 꿈을 기술하십...\n",
            "1      [질문 Q1.왜 ‘LG이노텍’을 선택하여 지원했는지와 일하고 싶은 분야 및 이유를 ...\n",
            "2      [질문 Q1.한국철도에 지원하게 된 동기와 입사 후 10년 뒤 지원 직무와 관련한 ...\n",
            "3      [질문 Q1.본인이 소속된 조직(학과, 인턴, 동아리, 프로젝트 등)의 목표를 달성...\n",
            "4      [질문 Q1. 삼성 메디슨을 지원한 이유와 입사 후 회사에서 이루고 싶은 꿈을 기술...\n",
            "                             ...                        \n",
            "195    [질문 Q1.자신의 성장 과정, 성격의 장단점을 서술하시오.보기, 질문 Q2.지금까...\n",
            "196    [질문 Q1. 삼성전자를 지원한 이유와 입사 후 회사에서 이루고 싶은 꿈을 기술하십...\n",
            "197    [질문 Q1.특별히 뷰웍스를 선택한 이유와 입사 후포부에 대해 기술해 주십시오.(최...\n",
            "198    [질문 Q1. 삼성 메디슨 취업을 선택한 이유와 목표보기, 질문 Q2.성장 배경 및...\n",
            "199    [질문 Q1. 경력 및 경험기술서(1000자 이내로 기입.단, 해당자에 한함) *입...\n",
            "Name: question, Length: 200, dtype: object\n"
          ]
        }
      ]
    },
    {
      "cell_type": "code",
      "source": [
        "data['answer'].isnull().sum() # 결측치 없음\n",
        "data['question'].isnull().sum() # 결측치 없음"
      ],
      "metadata": {
        "colab": {
          "base_uri": "https://localhost:8080/"
        },
        "id": "6cdV-77LRiMA",
        "outputId": "b1e0fd71-f400-4ce2-ee1b-6fa7abd4fbdf"
      },
      "execution_count": 4,
      "outputs": [
        {
          "output_type": "execute_result",
          "data": {
            "text/plain": [
              "0"
            ]
          },
          "metadata": {},
          "execution_count": 4
        }
      ]
    },
    {
      "cell_type": "code",
      "source": [
        "tfidf = TfidfVectorizer()\n",
        "tfidf_question_matrix = tfidf.fit_transform(data['question'])\n",
        "tfidf_answer_matrix = tfidf.fit_transform(data['answer'])\n",
        "\n",
        "print('TF-IDF Answer 행렬의 크기 :', tfidf_answer_matrix.shape)\n",
        "print('TF-IDF Question 행렬의 크기 :', tfidf_question_matrix.shape)"
      ],
      "metadata": {
        "colab": {
          "base_uri": "https://localhost:8080/"
        },
        "id": "CAICHULxRzn_",
        "outputId": "9d720f47-81f7-4ebd-dac2-d5e75201e21d"
      },
      "execution_count": 5,
      "outputs": [
        {
          "output_type": "stream",
          "name": "stdout",
          "text": [
            "TF-IDF Answer 행렬의 크기 : (200, 20132)\n",
            "TF-IDF Question 행렬의 크기 : (200, 1538)\n"
          ]
        }
      ]
    },
    {
      "cell_type": "code",
      "source": [
        "cosine_sim_answer = cosine_similarity(tfidf_answer_matrix, tfidf_answer_matrix)\n",
        "cosine_sim_question = cosine_similarity(tfidf_question_matrix, tfidf_question_matrix)\n",
        "\n",
        "cosine_sim = cosine_similarity(cosine_sim_answer, cosine_sim_question)\n",
        "print(cosine_sim.shape)"
      ],
      "metadata": {
        "colab": {
          "base_uri": "https://localhost:8080/"
        },
        "id": "xDhNW1ulSEXg",
        "outputId": "d1292021-9291-409d-c80b-7dbadf647fd4"
      },
      "execution_count": 6,
      "outputs": [
        {
          "output_type": "stream",
          "name": "stdout",
          "text": [
            "(200, 200)\n"
          ]
        }
      ]
    },
    {
      "cell_type": "code",
      "source": [
        "answer_to_index = dict(zip(data['answer'], data.index))\n",
        "question_to_index = dict(zip(data['question'], data.index))"
      ],
      "metadata": {
        "id": "mBCY0IokS-E-"
      },
      "execution_count": 7,
      "outputs": []
    },
    {
      "cell_type": "code",
      "source": [
        "def get_recommendations(answer, cosine_sim=cosine_sim):\n",
        "    # 선택한 자기소개서의 답변으로부터 해당 자기소개서의 인덱스를 받아온다\n",
        "    idx = answer_to_index[answer]\n",
        "    # 해당 답변과 모든 질문과의 유사도를 가져온다.\n",
        "    sim_scores = list(enumerate(cosine_sim[idx]))\n",
        "     # 유사도에 따른 자기소개서 답변들을 정렬한다.\n",
        "    sim_scores = sorted(sim_scores, key=lambda x: x[1], reverse=True)\n",
        "    # 가장 유사한 5개의 자기소개서 질문을 받아온다.\n",
        "    sim_scores = sim_scores[0:6]\n",
        "    # 가장 유사한 5개의 자기소개서 질문의 인덱스를 얻는다.\n",
        "    question_indices = [idx[0] for idx in sim_scores]\n",
        "    # 가장 유사한 5개의 자기소개서의 질문을 리턴한다.\n",
        "    return data['question'].iloc[question_indices]"
      ],
      "metadata": {
        "id": "eRSFCEpgT3lE"
      },
      "execution_count": 8,
      "outputs": []
    },
    {
      "cell_type": "code",
      "source": [
        "get_recommendations('[저는 디스플레이 소자 분야의 일꾼이 되기 위해서 전문성을 획득하고자 했습니다. 신소재 공학 전공자로서 여러 소재의 특성 및 합성법에 대해 전문성을 갖추고자 노력했습니다. 금속, 세라믹, 폴리머 등 여러 재료의 각 특성 및 다른 합성법 등을 공부했습니다. 특히 압전 소자의 제작을 위한 연구와 실습과정을 예시로 들겠습니다. 제가 참여한 재료공정 실험의 주제는 ‘flexible 기판 위 스핀코팅법을 이용한 PVDF 기반의 압전 에너지 발전 소자 제작 및 측정’이었습니다. 저희 조는 합성법 중 스핀코팅법, 압전 물질에 대한 사전조사를 Perovskite 계 세라믹인 BaTiO3와 PZT에 대해 조사하고 분석했습니다.   제작한 소자는 ITO가 코팅된 플라스틱 기판 위에 압전 물질 PVDF와 전선 역할의 은 나노 와이어 위를 덮은 PMMA로 구성되었습니다. 이 소자로 인장 및 수축을 통한 전기 신호를 측정하는 실험도 진행하였고 약 200 mV의 전압을 측정할 수 있었습니다.    이 실습이 저의 첫 전공 조별 프로젝트였기에 더욱 기억에 남습니다. 저는 다른 이들에 비해 전문적인 실습 경험은 적은 편이라 생각합니다. 하지만 조원들과의 협동성과 조별 프로젝트 과제의 성과를 내는 면에서는 특출난 장점을 가진다고 생각합니다. 지난 3개의 필수 설계 과목인 ‘창의 기초 설계’, ‘재료 공정 실험’, ‘재료 물리 실험’ 과목에서 받은 A+의 학점이 이를 뒷받침할 수 있습니다. 조원들과 유기적으로 소통하고 교류하여 성과를 내는 능력을 통해 사회에서도 잘 적응하고 회사 내에서 제 역량을 팀원들과 함께 발휘할 수 있을 것이라 확신합니다.                        글자수 814자1,350Byte                    , \"기발한 아이디어로 문제를 해결하는 사람\"   저는 20살부터 1년 4개월간 ‘OO OO’라는 한식뷔페 레스토랑에서 아르바이트를 하였습니다. 매니저가 되던 시기, 매출 부진으로 본사 압박이 들어와 직원들이 모여 고민하고 협의했습니다. 20살의 젊은 관리인이었던 저는 여러 아이디어를 통해 문제를 해결하고자 했습니다. 먼저 브레이크 타임의 도입을 제안했습니다. 이를 통해 준비된  음식이 조용한 시간대에 식어가지 않게 하였습니다. 음식의 질도 높이고 잔반도 줄이는 일석이조의 효과를 보았습니다.   그리고 평일 점심시간 한정 새로운 프로모션을 진행했습니다. 인당 9,900원의 새로운 코스를 도입해 평일 점심시간에 새로운 선택권을 손님들께 제공했습니다. 이를 통해 평일 점심 매출은 한 달 새 평균 200% 이상 상승했고 이 때문에 저는 군 입대 전 퇴사 보너스도 받을 수 있었습니다. 이렇듯 저는 일찍이 사회 경험을 통해 소통과 문제해결능력을 발전해 왔고 그 성과도 이룬 사실이 있습니다. \"팀워크가 좋은 파트너\"3학년 조별 설계 과제로 ‘고온 재료의 수명 연장을 위한 미세조직 설계’의 주제를 부여받았습니다. 핵심은 어떤 합금의 구성 재료를 선택하고 고온에서 잘 버틸 수 있을까라고 할 수 있었습니다.  처음부터 조원들 간 의견의 차이가 있었습니다. 누구는 새로운 합금을 선정하고자 했고 다른 이는 기존 합금의 함량을 수정해 형태를 만들고자 했습니다. 의견 공유 끝에 신 합금 선택 시 전문가인 교수님의 관점에서 볼 때 많은 오류와 문제가 생길 가능성이 높을 것으로 판단해 문제를 해결했습니다.  역할을 부여할 때는 한 조원은 영어를 잘하고 인터넷 서핑에 장점이 있어 해외 논문 분석을 했습니다. 타자가 빠른 친구는 정보 수집과 정리를, 학생회장은 발표를 담당했습니다. 저는 책과 자료들을 조사하고 다른 조와 정보를 공유하는 대외 역할을 담당했습니다. 그 결과 내열성 및  기계적 성질이 우수하여 우주 항공 산업에 적합할 것으로 판단되는 합금을 이루어냈습니다.                        글자수 1,010자1,708Byte                    ]')"
      ],
      "metadata": {
        "colab": {
          "base_uri": "https://localhost:8080/"
        },
        "id": "G7phxQwHUQfA",
        "outputId": "5aa8131e-388a-410e-87f9-2f8240c1ccf7"
      },
      "execution_count": 9,
      "outputs": [
        {
          "output_type": "execute_result",
          "data": {
            "text/plain": [
              "37       [질문 Q1.지원 직무 관련 수강과목 경험 보기, 질문 Q2. 직무 관련 강점보기]\n",
              "39    [질문 Q1.존경하는 인물, 여행스타일, 친구들과의 여행 중 본인의 역할, 가장 시...\n",
              "64    [질문 Q1. 직무 관련 강점/지원 직무 수행과 연계한 본인만의 경쟁력 및 강점을 ...\n",
              "75    [질문 Q1.한 전 KPS에 지원한 동기(관심을 가지게 된 계기, 시기 등)와 본인...\n",
              "16    [질문 Q1.지원 직무 관련 최근 Trend를 간략히 정의하고, 해당 역량을 키우기...\n",
              "23    [질문 Q1. 직무지식/경험: 지원 직무와 관련된 수강과목 및 경험을 간략하게 기술...\n",
              "Name: question, dtype: object"
            ]
          },
          "metadata": {},
          "execution_count": 9
        }
      ]
    }
  ]
}
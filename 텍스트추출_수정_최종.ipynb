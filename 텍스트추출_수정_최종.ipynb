{
  "nbformat": 4,
  "nbformat_minor": 0,
  "metadata": {
    "colab": {
      "name": "텍스트추출_수정_최종.ipynb",
      "provenance": [],
      "collapsed_sections": [],
      "include_colab_link": true
    },
    "kernelspec": {
      "name": "python3",
      "display_name": "Python 3"
    },
    "language_info": {
      "name": "python"
    }
  },
  "cells": [
    {
      "cell_type": "markdown",
      "metadata": {
        "id": "view-in-github",
        "colab_type": "text"
      },
      "source": [
        "<a href=\"https://colab.research.google.com/github/dlagur/ProjectHanium/blob/main/%ED%85%8D%EC%8A%A4%ED%8A%B8%EC%B6%94%EC%B6%9C_%EC%88%98%EC%A0%95_%EC%B5%9C%EC%A2%85.ipynb\" target=\"_parent\"><img src=\"https://colab.research.google.com/assets/colab-badge.svg\" alt=\"Open In Colab\"/></a>"
      ]
    },
    {
      "cell_type": "code",
      "source": [
        "!pip install selenium\n",
        "!apt-get update\n",
        "!apt install chromium-chromedriver\n",
        "!cp /usr/lib/chromium-browser/chromedriver /usr/bin"
      ],
      "metadata": {
        "colab": {
          "base_uri": "https://localhost:8080/"
        },
        "id": "7wBugiuo5pFu",
        "outputId": "831b73b8-7802-4593-8cc7-b98006ebf1c6"
      },
      "execution_count": 1,
      "outputs": [
        {
          "output_type": "stream",
          "name": "stdout",
          "text": [
            "Looking in indexes: https://pypi.org/simple, https://us-python.pkg.dev/colab-wheels/public/simple/\n",
            "Collecting selenium\n",
            "  Downloading selenium-4.3.0-py3-none-any.whl (981 kB)\n",
            "\u001b[K     |████████████████████████████████| 981 kB 5.2 MB/s \n",
            "\u001b[?25hCollecting trio~=0.17\n",
            "  Downloading trio-0.21.0-py3-none-any.whl (358 kB)\n",
            "\u001b[K     |████████████████████████████████| 358 kB 48.9 MB/s \n",
            "\u001b[?25hCollecting trio-websocket~=0.9\n",
            "  Downloading trio_websocket-0.9.2-py3-none-any.whl (16 kB)\n",
            "Collecting urllib3[secure,socks]~=1.26\n",
            "  Downloading urllib3-1.26.10-py2.py3-none-any.whl (139 kB)\n",
            "\u001b[K     |████████████████████████████████| 139 kB 55.7 MB/s \n",
            "\u001b[?25hCollecting outcome\n",
            "  Downloading outcome-1.2.0-py2.py3-none-any.whl (9.7 kB)\n",
            "Requirement already satisfied: sortedcontainers in /usr/local/lib/python3.7/dist-packages (from trio~=0.17->selenium) (2.4.0)\n",
            "Requirement already satisfied: idna in /usr/local/lib/python3.7/dist-packages (from trio~=0.17->selenium) (2.10)\n",
            "Collecting sniffio\n",
            "  Downloading sniffio-1.2.0-py3-none-any.whl (10 kB)\n",
            "Collecting async-generator>=1.9\n",
            "  Downloading async_generator-1.10-py3-none-any.whl (18 kB)\n",
            "Requirement already satisfied: attrs>=19.2.0 in /usr/local/lib/python3.7/dist-packages (from trio~=0.17->selenium) (21.4.0)\n",
            "Collecting wsproto>=0.14\n",
            "  Downloading wsproto-1.1.0-py3-none-any.whl (24 kB)\n",
            "Requirement already satisfied: PySocks!=1.5.7,<2.0,>=1.5.6 in /usr/local/lib/python3.7/dist-packages (from urllib3[secure,socks]~=1.26->selenium) (1.7.1)\n",
            "Requirement already satisfied: certifi in /usr/local/lib/python3.7/dist-packages (from urllib3[secure,socks]~=1.26->selenium) (2022.6.15)\n",
            "Collecting pyOpenSSL>=0.14\n",
            "  Downloading pyOpenSSL-22.0.0-py2.py3-none-any.whl (55 kB)\n",
            "\u001b[K     |████████████████████████████████| 55 kB 850 kB/s \n",
            "\u001b[?25hCollecting cryptography>=1.3.4\n",
            "  Downloading cryptography-37.0.4-cp36-abi3-manylinux_2_24_x86_64.whl (4.1 MB)\n",
            "\u001b[K     |████████████████████████████████| 4.1 MB 37.6 MB/s \n",
            "\u001b[?25hRequirement already satisfied: cffi>=1.12 in /usr/local/lib/python3.7/dist-packages (from cryptography>=1.3.4->urllib3[secure,socks]~=1.26->selenium) (1.15.1)\n",
            "Requirement already satisfied: pycparser in /usr/local/lib/python3.7/dist-packages (from cffi>=1.12->cryptography>=1.3.4->urllib3[secure,socks]~=1.26->selenium) (2.21)\n",
            "Collecting h11<1,>=0.9.0\n",
            "  Downloading h11-0.13.0-py3-none-any.whl (58 kB)\n",
            "\u001b[K     |████████████████████████████████| 58 kB 3.7 MB/s \n",
            "\u001b[?25hRequirement already satisfied: typing-extensions in /usr/local/lib/python3.7/dist-packages (from h11<1,>=0.9.0->wsproto>=0.14->trio-websocket~=0.9->selenium) (4.1.1)\n",
            "Installing collected packages: sniffio, outcome, h11, cryptography, async-generator, wsproto, urllib3, trio, pyOpenSSL, trio-websocket, selenium\n",
            "  Attempting uninstall: urllib3\n",
            "    Found existing installation: urllib3 1.24.3\n",
            "    Uninstalling urllib3-1.24.3:\n",
            "      Successfully uninstalled urllib3-1.24.3\n",
            "\u001b[31mERROR: pip's dependency resolver does not currently take into account all the packages that are installed. This behaviour is the source of the following dependency conflicts.\n",
            "requests 2.23.0 requires urllib3!=1.25.0,!=1.25.1,<1.26,>=1.21.1, but you have urllib3 1.26.10 which is incompatible.\n",
            "datascience 0.10.6 requires folium==0.2.1, but you have folium 0.8.3 which is incompatible.\u001b[0m\n",
            "Successfully installed async-generator-1.10 cryptography-37.0.4 h11-0.13.0 outcome-1.2.0 pyOpenSSL-22.0.0 selenium-4.3.0 sniffio-1.2.0 trio-0.21.0 trio-websocket-0.9.2 urllib3-1.26.10 wsproto-1.1.0\n",
            "Get:1 http://security.ubuntu.com/ubuntu bionic-security InRelease [88.7 kB]\n",
            "Hit:2 http://archive.ubuntu.com/ubuntu bionic InRelease\n",
            "Get:3 http://archive.ubuntu.com/ubuntu bionic-updates InRelease [88.7 kB]\n",
            "Get:4 https://developer.download.nvidia.com/compute/cuda/repos/ubuntu1804/x86_64  InRelease [1,581 B]\n",
            "Get:5 https://cloud.r-project.org/bin/linux/ubuntu bionic-cran40/ InRelease [3,626 B]\n",
            "Get:6 http://ppa.launchpad.net/c2d4u.team/c2d4u4.0+/ubuntu bionic InRelease [15.9 kB]\n",
            "Get:7 http://archive.ubuntu.com/ubuntu bionic-backports InRelease [74.6 kB]\n",
            "Ign:8 https://developer.download.nvidia.com/compute/machine-learning/repos/ubuntu1804/x86_64  InRelease\n",
            "Hit:9 https://developer.download.nvidia.com/compute/machine-learning/repos/ubuntu1804/x86_64  Release\n",
            "Hit:10 http://ppa.launchpad.net/cran/libgit2/ubuntu bionic InRelease\n",
            "Get:11 http://ppa.launchpad.net/deadsnakes/ppa/ubuntu bionic InRelease [15.9 kB]\n",
            "Hit:12 http://ppa.launchpad.net/graphics-drivers/ppa/ubuntu bionic InRelease\n",
            "Get:13 https://developer.download.nvidia.com/compute/cuda/repos/ubuntu1804/x86_64  Packages [816 kB]\n",
            "Get:14 http://security.ubuntu.com/ubuntu bionic-security/universe amd64 Packages [1,526 kB]\n",
            "Get:15 http://security.ubuntu.com/ubuntu bionic-security/main amd64 Packages [2,896 kB]\n",
            "Get:16 http://security.ubuntu.com/ubuntu bionic-security/restricted amd64 Packages [1,057 kB]\n",
            "Get:17 http://archive.ubuntu.com/ubuntu bionic-updates/universe amd64 Packages [2,302 kB]\n",
            "Get:18 http://archive.ubuntu.com/ubuntu bionic-updates/restricted amd64 Packages [1,101 kB]\n",
            "Get:19 http://archive.ubuntu.com/ubuntu bionic-updates/main amd64 Packages [3,328 kB]\n",
            "Get:21 http://ppa.launchpad.net/c2d4u.team/c2d4u4.0+/ubuntu bionic/main Sources [2,075 kB]\n",
            "Get:22 http://ppa.launchpad.net/c2d4u.team/c2d4u4.0+/ubuntu bionic/main amd64 Packages [1,063 kB]\n",
            "Get:23 http://ppa.launchpad.net/deadsnakes/ppa/ubuntu bionic/main amd64 Packages [45.3 kB]\n",
            "Fetched 16.5 MB in 7s (2,250 kB/s)\n",
            "Reading package lists... Done\n",
            "Reading package lists... Done\n",
            "Building dependency tree       \n",
            "Reading state information... Done\n",
            "The following package was automatically installed and is no longer required:\n",
            "  libnvidia-common-460\n",
            "Use 'apt autoremove' to remove it.\n",
            "The following additional packages will be installed:\n",
            "  chromium-browser chromium-browser-l10n chromium-codecs-ffmpeg-extra\n",
            "Suggested packages:\n",
            "  webaccounts-chromium-extension unity-chromium-extension\n",
            "The following NEW packages will be installed:\n",
            "  chromium-browser chromium-browser-l10n chromium-chromedriver\n",
            "  chromium-codecs-ffmpeg-extra\n",
            "0 upgraded, 4 newly installed, 0 to remove and 73 not upgraded.\n",
            "Need to get 89.8 MB of archives.\n",
            "After this operation, 302 MB of additional disk space will be used.\n",
            "Get:1 http://archive.ubuntu.com/ubuntu bionic-updates/universe amd64 chromium-codecs-ffmpeg-extra amd64 101.0.4951.64-0ubuntu0.18.04.1 [1,142 kB]\n",
            "Get:2 http://archive.ubuntu.com/ubuntu bionic-updates/universe amd64 chromium-browser amd64 101.0.4951.64-0ubuntu0.18.04.1 [78.5 MB]\n",
            "Get:3 http://archive.ubuntu.com/ubuntu bionic-updates/universe amd64 chromium-browser-l10n all 101.0.4951.64-0ubuntu0.18.04.1 [4,980 kB]\n",
            "Get:4 http://archive.ubuntu.com/ubuntu bionic-updates/universe amd64 chromium-chromedriver amd64 101.0.4951.64-0ubuntu0.18.04.1 [5,153 kB]\n",
            "Fetched 89.8 MB in 2s (46.7 MB/s)\n",
            "Selecting previously unselected package chromium-codecs-ffmpeg-extra.\n",
            "(Reading database ... 155639 files and directories currently installed.)\n",
            "Preparing to unpack .../chromium-codecs-ffmpeg-extra_101.0.4951.64-0ubuntu0.18.04.1_amd64.deb ...\n",
            "Unpacking chromium-codecs-ffmpeg-extra (101.0.4951.64-0ubuntu0.18.04.1) ...\n",
            "Selecting previously unselected package chromium-browser.\n",
            "Preparing to unpack .../chromium-browser_101.0.4951.64-0ubuntu0.18.04.1_amd64.deb ...\n",
            "Unpacking chromium-browser (101.0.4951.64-0ubuntu0.18.04.1) ...\n",
            "Selecting previously unselected package chromium-browser-l10n.\n",
            "Preparing to unpack .../chromium-browser-l10n_101.0.4951.64-0ubuntu0.18.04.1_all.deb ...\n",
            "Unpacking chromium-browser-l10n (101.0.4951.64-0ubuntu0.18.04.1) ...\n",
            "Selecting previously unselected package chromium-chromedriver.\n",
            "Preparing to unpack .../chromium-chromedriver_101.0.4951.64-0ubuntu0.18.04.1_amd64.deb ...\n",
            "Unpacking chromium-chromedriver (101.0.4951.64-0ubuntu0.18.04.1) ...\n",
            "Setting up chromium-codecs-ffmpeg-extra (101.0.4951.64-0ubuntu0.18.04.1) ...\n",
            "Setting up chromium-browser (101.0.4951.64-0ubuntu0.18.04.1) ...\n",
            "update-alternatives: using /usr/bin/chromium-browser to provide /usr/bin/x-www-browser (x-www-browser) in auto mode\n",
            "update-alternatives: using /usr/bin/chromium-browser to provide /usr/bin/gnome-www-browser (gnome-www-browser) in auto mode\n",
            "Setting up chromium-chromedriver (101.0.4951.64-0ubuntu0.18.04.1) ...\n",
            "Setting up chromium-browser-l10n (101.0.4951.64-0ubuntu0.18.04.1) ...\n",
            "Processing triggers for man-db (2.8.3-2ubuntu0.1) ...\n",
            "Processing triggers for hicolor-icon-theme (0.17-2) ...\n",
            "Processing triggers for mime-support (3.60ubuntu1) ...\n",
            "Processing triggers for libc-bin (2.27-3ubuntu1.3) ...\n",
            "/sbin/ldconfig.real: /usr/local/lib/python3.7/dist-packages/ideep4py/lib/libmkldnn.so.0 is not a symbolic link\n",
            "\n",
            "cp: '/usr/lib/chromium-browser/chromedriver' and '/usr/bin/chromedriver' are the same file\n"
          ]
        }
      ]
    },
    {
      "cell_type": "code",
      "source": [
        "#크롤링시 필요한 라이브러리 불러오기\n",
        "from selenium import webdriver\n",
        "from urllib.request import urlopen\n",
        "import requests\n",
        "from selenium.webdriver.common.by import By\n",
        "from bs4 import BeautifulSoup\n",
        "from urllib.parse import quote_plus\n",
        "from selenium.webdriver.common.keys import Keys\n",
        "import time\n",
        "import re"
      ],
      "metadata": {
        "id": "yyXm2En_54MR",
        "colab": {
          "base_uri": "https://localhost:8080/"
        },
        "outputId": "b9928957-1984-4b69-9e44-648c2054380d"
      },
      "execution_count": 2,
      "outputs": [
        {
          "output_type": "stream",
          "name": "stderr",
          "text": [
            "/usr/local/lib/python3.7/dist-packages/requests/__init__.py:91: RequestsDependencyWarning: urllib3 (1.26.10) or chardet (3.0.4) doesn't match a supported version!\n",
            "  RequestsDependencyWarning)\n"
          ]
        }
      ]
    },
    {
      "cell_type": "code",
      "source": [
        "#Colab에선 웹브라우저 창이 뜨지 않으므로 별도 설정한다.\n",
        " \n",
        "options = webdriver.ChromeOptions()\n",
        "options.add_argument('--headless')        # Head-less 설정\n",
        "options.add_argument('--no-sandbox')\n",
        "options.add_argument('--disable-dev-shm-usage')\n",
        "options.add_argument('incognito')\n",
        "driver = webdriver.Chrome('chromedriver', options=options)"
      ],
      "metadata": {
        "id": "wpB8LP3XnWi8"
      },
      "execution_count": 3,
      "outputs": []
    },
    {
      "cell_type": "markdown",
      "source": [
        "# url 바꾸기 ( page 숫자 제외 )"
      ],
      "metadata": {
        "id": "S-fKBRtjOReC"
      }
    },
    {
      "cell_type": "code",
      "source": [
        "def get_page_urls(end_page):\n",
        "  urls= []\n",
        "  for i in range(1, end_page+1): #page 번호를 제외한 url은 바꿔줘야함!!!\n",
        "      url = ''+str(i)\n",
        "      urls.append(url)\n",
        "  return urls  "
      ],
      "metadata": {
        "id": "QWa5U61KRZy5"
      },
      "execution_count": 25,
      "outputs": []
    },
    {
      "cell_type": "code",
      "source": [
        "content_urls = []\n",
        "for k in get_page_urls(10):\n",
        "\n",
        "    response = requests.get(k) # 응답\n",
        "    soup = BeautifulSoup(response.text, 'html.parser') # 응답을 html 문서를 파싱\n",
        "\n",
        "    content = soup.select('p.tit > a')\n",
        "\n",
        "    content_urls.append(content)"
      ],
      "metadata": {
        "id": "3rVfEG9KWLXY"
      },
      "execution_count": 26,
      "outputs": []
    },
    {
      "cell_type": "code",
      "source": [
        "content_urls = sum(content_urls, []) #2차원 리스트를 1차원으로 변환"
      ],
      "metadata": {
        "id": "ZB0v_sTKHwYU"
      },
      "execution_count": 27,
      "outputs": []
    },
    {
      "cell_type": "code",
      "source": [
        "jobkorea_urls = []\n",
        "for i in content_urls:\n",
        "\n",
        "  link = 'https://www.jobkorea.co.kr'+ i.attrs['href']\n",
        "  jobkorea_urls.append(link)\n",
        "    \n",
        "print(jobkorea_urls)     "
      ],
      "metadata": {
        "colab": {
          "base_uri": "https://localhost:8080/"
        },
        "id": "ZKVS-19ZYe3H",
        "outputId": "6a3deb66-f268-4d02-f901-b56aece20f22"
      },
      "execution_count": 28,
      "outputs": [
        {
          "output_type": "stream",
          "name": "stdout",
          "text": [
            "['https://www.jobkorea.co.kr/starter/PassAssay/View/239003?Page=1&OrderBy=0&FavorCo_Stat=0&schPart=10021&Pass_An_Stat=0', 'https://www.jobkorea.co.kr/starter/PassAssay/View/239004?Page=1&OrderBy=0&FavorCo_Stat=0&schPart=10021&Pass_An_Stat=0', 'https://www.jobkorea.co.kr/starter/PassAssay/View/238598?Page=1&OrderBy=0&FavorCo_Stat=0&schPart=10021&Pass_An_Stat=0', 'https://www.jobkorea.co.kr/starter/PassAssay/View/238607?Page=1&OrderBy=0&FavorCo_Stat=0&schPart=10021&Pass_An_Stat=0', 'https://www.jobkorea.co.kr/starter/PassAssay/View/238520?Page=1&OrderBy=0&FavorCo_Stat=0&schPart=10021&Pass_An_Stat=0', 'https://www.jobkorea.co.kr/starter/PassAssay/View/238071?Page=1&OrderBy=0&FavorCo_Stat=0&schPart=10021&Pass_An_Stat=0', 'https://www.jobkorea.co.kr/starter/PassAssay/View/238083?Page=1&OrderBy=0&FavorCo_Stat=0&schPart=10021&Pass_An_Stat=0', 'https://www.jobkorea.co.kr/starter/PassAssay/View/238084?Page=1&OrderBy=0&FavorCo_Stat=0&schPart=10021&Pass_An_Stat=0', 'https://www.jobkorea.co.kr/starter/PassAssay/View/238099?Page=1&OrderBy=0&FavorCo_Stat=0&schPart=10021&Pass_An_Stat=0', 'https://www.jobkorea.co.kr/starter/PassAssay/View/238147?Page=1&OrderBy=0&FavorCo_Stat=0&schPart=10021&Pass_An_Stat=0', 'https://www.jobkorea.co.kr/starter/PassAssay/View/238148?Page=1&OrderBy=0&FavorCo_Stat=0&schPart=10021&Pass_An_Stat=0', 'https://www.jobkorea.co.kr/starter/PassAssay/View/238149?Page=1&OrderBy=0&FavorCo_Stat=0&schPart=10021&Pass_An_Stat=0', 'https://www.jobkorea.co.kr/starter/PassAssay/View/238181?Page=1&OrderBy=0&FavorCo_Stat=0&schPart=10021&Pass_An_Stat=0', 'https://www.jobkorea.co.kr/starter/PassAssay/View/238193?Page=1&OrderBy=0&FavorCo_Stat=0&schPart=10021&Pass_An_Stat=0', 'https://www.jobkorea.co.kr/starter/PassAssay/View/238195?Page=1&OrderBy=0&FavorCo_Stat=0&schPart=10021&Pass_An_Stat=0', 'https://www.jobkorea.co.kr/starter/PassAssay/View/238197?Page=1&OrderBy=0&FavorCo_Stat=0&schPart=10021&Pass_An_Stat=0', 'https://www.jobkorea.co.kr/starter/PassAssay/View/238242?Page=1&OrderBy=0&FavorCo_Stat=0&schPart=10021&Pass_An_Stat=0', 'https://www.jobkorea.co.kr/starter/PassAssay/View/237878?Page=1&OrderBy=0&FavorCo_Stat=0&schPart=10021&Pass_An_Stat=0', 'https://www.jobkorea.co.kr/starter/PassAssay/View/237883?Page=1&OrderBy=0&FavorCo_Stat=0&schPart=10021&Pass_An_Stat=0', 'https://www.jobkorea.co.kr/starter/PassAssay/View/237890?Page=1&OrderBy=0&FavorCo_Stat=0&schPart=10021&Pass_An_Stat=0', 'https://www.jobkorea.co.kr/starter/PassAssay/View/237899?Page=2&OrderBy=0&FavorCo_Stat=0&schPart=10021&Pass_An_Stat=0', 'https://www.jobkorea.co.kr/starter/PassAssay/View/237907?Page=2&OrderBy=0&FavorCo_Stat=0&schPart=10021&Pass_An_Stat=0', 'https://www.jobkorea.co.kr/starter/PassAssay/View/237965?Page=2&OrderBy=0&FavorCo_Stat=0&schPart=10021&Pass_An_Stat=0', 'https://www.jobkorea.co.kr/starter/PassAssay/View/237968?Page=2&OrderBy=0&FavorCo_Stat=0&schPart=10021&Pass_An_Stat=0', 'https://www.jobkorea.co.kr/starter/PassAssay/View/238007?Page=2&OrderBy=0&FavorCo_Stat=0&schPart=10021&Pass_An_Stat=0', 'https://www.jobkorea.co.kr/starter/PassAssay/View/238048?Page=2&OrderBy=0&FavorCo_Stat=0&schPart=10021&Pass_An_Stat=0', 'https://www.jobkorea.co.kr/starter/PassAssay/View/237741?Page=2&OrderBy=0&FavorCo_Stat=0&schPart=10021&Pass_An_Stat=0', 'https://www.jobkorea.co.kr/starter/PassAssay/View/237742?Page=2&OrderBy=0&FavorCo_Stat=0&schPart=10021&Pass_An_Stat=0', 'https://www.jobkorea.co.kr/starter/PassAssay/View/237560?Page=2&OrderBy=0&FavorCo_Stat=0&schPart=10021&Pass_An_Stat=0', 'https://www.jobkorea.co.kr/starter/PassAssay/View/237676?Page=2&OrderBy=0&FavorCo_Stat=0&schPart=10021&Pass_An_Stat=0', 'https://www.jobkorea.co.kr/starter/PassAssay/View/237686?Page=2&OrderBy=0&FavorCo_Stat=0&schPart=10021&Pass_An_Stat=0', 'https://www.jobkorea.co.kr/starter/PassAssay/View/237710?Page=2&OrderBy=0&FavorCo_Stat=0&schPart=10021&Pass_An_Stat=0', 'https://www.jobkorea.co.kr/starter/PassAssay/View/237379?Page=2&OrderBy=0&FavorCo_Stat=0&schPart=10021&Pass_An_Stat=0', 'https://www.jobkorea.co.kr/starter/PassAssay/View/237356?Page=2&OrderBy=0&FavorCo_Stat=0&schPart=10021&Pass_An_Stat=0', 'https://www.jobkorea.co.kr/starter/PassAssay/View/237388?Page=2&OrderBy=0&FavorCo_Stat=0&schPart=10021&Pass_An_Stat=0', 'https://www.jobkorea.co.kr/starter/PassAssay/View/237390?Page=2&OrderBy=0&FavorCo_Stat=0&schPart=10021&Pass_An_Stat=0', 'https://www.jobkorea.co.kr/starter/PassAssay/View/237393?Page=2&OrderBy=0&FavorCo_Stat=0&schPart=10021&Pass_An_Stat=0', 'https://www.jobkorea.co.kr/starter/PassAssay/View/237549?Page=2&OrderBy=0&FavorCo_Stat=0&schPart=10021&Pass_An_Stat=0', 'https://www.jobkorea.co.kr/starter/PassAssay/View/237200?Page=2&OrderBy=0&FavorCo_Stat=0&schPart=10021&Pass_An_Stat=0', 'https://www.jobkorea.co.kr/starter/PassAssay/View/236967?Page=2&OrderBy=0&FavorCo_Stat=0&schPart=10021&Pass_An_Stat=0', 'https://www.jobkorea.co.kr/starter/PassAssay/View/236769?Page=3&OrderBy=0&FavorCo_Stat=0&schPart=10021&Pass_An_Stat=0', 'https://www.jobkorea.co.kr/starter/PassAssay/View/236610?Page=3&OrderBy=0&FavorCo_Stat=0&schPart=10021&Pass_An_Stat=0', 'https://www.jobkorea.co.kr/starter/PassAssay/View/236223?Page=3&OrderBy=0&FavorCo_Stat=0&schPart=10021&Pass_An_Stat=0', 'https://www.jobkorea.co.kr/starter/PassAssay/View/236224?Page=3&OrderBy=0&FavorCo_Stat=0&schPart=10021&Pass_An_Stat=0', 'https://www.jobkorea.co.kr/starter/PassAssay/View/236222?Page=3&OrderBy=0&FavorCo_Stat=0&schPart=10021&Pass_An_Stat=0', 'https://www.jobkorea.co.kr/starter/PassAssay/View/236226?Page=3&OrderBy=0&FavorCo_Stat=0&schPart=10021&Pass_An_Stat=0', 'https://www.jobkorea.co.kr/starter/PassAssay/View/235585?Page=3&OrderBy=0&FavorCo_Stat=0&schPart=10021&Pass_An_Stat=0', 'https://www.jobkorea.co.kr/starter/PassAssay/View/235587?Page=3&OrderBy=0&FavorCo_Stat=0&schPart=10021&Pass_An_Stat=0', 'https://www.jobkorea.co.kr/starter/PassAssay/View/235586?Page=3&OrderBy=0&FavorCo_Stat=0&schPart=10021&Pass_An_Stat=0', 'https://www.jobkorea.co.kr/starter/PassAssay/View/235604?Page=3&OrderBy=0&FavorCo_Stat=0&schPart=10021&Pass_An_Stat=0', 'https://www.jobkorea.co.kr/starter/PassAssay/View/235643?Page=3&OrderBy=0&FavorCo_Stat=0&schPart=10021&Pass_An_Stat=0', 'https://www.jobkorea.co.kr/starter/PassAssay/View/235644?Page=3&OrderBy=0&FavorCo_Stat=0&schPart=10021&Pass_An_Stat=0', 'https://www.jobkorea.co.kr/starter/PassAssay/View/235470?Page=3&OrderBy=0&FavorCo_Stat=0&schPart=10021&Pass_An_Stat=0', 'https://www.jobkorea.co.kr/starter/PassAssay/View/235477?Page=3&OrderBy=0&FavorCo_Stat=0&schPart=10021&Pass_An_Stat=0', 'https://www.jobkorea.co.kr/starter/PassAssay/View/235478?Page=3&OrderBy=0&FavorCo_Stat=0&schPart=10021&Pass_An_Stat=0', 'https://www.jobkorea.co.kr/starter/PassAssay/View/201390?Page=3&OrderBy=0&FavorCo_Stat=0&schPart=10021&Pass_An_Stat=0', 'https://www.jobkorea.co.kr/starter/PassAssay/View/201389?Page=3&OrderBy=0&FavorCo_Stat=0&schPart=10021&Pass_An_Stat=0', 'https://www.jobkorea.co.kr/starter/PassAssay/View/200847?Page=3&OrderBy=0&FavorCo_Stat=0&schPart=10021&Pass_An_Stat=0', 'https://www.jobkorea.co.kr/starter/PassAssay/View/200610?Page=3&OrderBy=0&FavorCo_Stat=0&schPart=10021&Pass_An_Stat=0', 'https://www.jobkorea.co.kr/starter/PassAssay/View/200611?Page=3&OrderBy=0&FavorCo_Stat=0&schPart=10021&Pass_An_Stat=0', 'https://www.jobkorea.co.kr/starter/PassAssay/View/200612?Page=4&OrderBy=0&FavorCo_Stat=0&schPart=10021&Pass_An_Stat=0', 'https://www.jobkorea.co.kr/starter/PassAssay/View/200613?Page=4&OrderBy=0&FavorCo_Stat=0&schPart=10021&Pass_An_Stat=0', 'https://www.jobkorea.co.kr/starter/PassAssay/View/200615?Page=4&OrderBy=0&FavorCo_Stat=0&schPart=10021&Pass_An_Stat=0', 'https://www.jobkorea.co.kr/starter/PassAssay/View/200616?Page=4&OrderBy=0&FavorCo_Stat=0&schPart=10021&Pass_An_Stat=0', 'https://www.jobkorea.co.kr/starter/PassAssay/View/200617?Page=4&OrderBy=0&FavorCo_Stat=0&schPart=10021&Pass_An_Stat=0', 'https://www.jobkorea.co.kr/starter/PassAssay/View/200618?Page=4&OrderBy=0&FavorCo_Stat=0&schPart=10021&Pass_An_Stat=0', 'https://www.jobkorea.co.kr/starter/PassAssay/View/200619?Page=4&OrderBy=0&FavorCo_Stat=0&schPart=10021&Pass_An_Stat=0', 'https://www.jobkorea.co.kr/starter/PassAssay/View/200620?Page=4&OrderBy=0&FavorCo_Stat=0&schPart=10021&Pass_An_Stat=0', 'https://www.jobkorea.co.kr/starter/PassAssay/View/200622?Page=4&OrderBy=0&FavorCo_Stat=0&schPart=10021&Pass_An_Stat=0', 'https://www.jobkorea.co.kr/starter/PassAssay/View/200623?Page=4&OrderBy=0&FavorCo_Stat=0&schPart=10021&Pass_An_Stat=0', 'https://www.jobkorea.co.kr/starter/PassAssay/View/200624?Page=4&OrderBy=0&FavorCo_Stat=0&schPart=10021&Pass_An_Stat=0', 'https://www.jobkorea.co.kr/starter/PassAssay/View/200625?Page=4&OrderBy=0&FavorCo_Stat=0&schPart=10021&Pass_An_Stat=0', 'https://www.jobkorea.co.kr/starter/PassAssay/View/200626?Page=4&OrderBy=0&FavorCo_Stat=0&schPart=10021&Pass_An_Stat=0', 'https://www.jobkorea.co.kr/starter/PassAssay/View/200627?Page=4&OrderBy=0&FavorCo_Stat=0&schPart=10021&Pass_An_Stat=0', 'https://www.jobkorea.co.kr/starter/PassAssay/View/200628?Page=4&OrderBy=0&FavorCo_Stat=0&schPart=10021&Pass_An_Stat=0', 'https://www.jobkorea.co.kr/starter/PassAssay/View/200629?Page=4&OrderBy=0&FavorCo_Stat=0&schPart=10021&Pass_An_Stat=0', 'https://www.jobkorea.co.kr/starter/PassAssay/View/200630?Page=4&OrderBy=0&FavorCo_Stat=0&schPart=10021&Pass_An_Stat=0', 'https://www.jobkorea.co.kr/starter/PassAssay/View/200632?Page=4&OrderBy=0&FavorCo_Stat=0&schPart=10021&Pass_An_Stat=0', 'https://www.jobkorea.co.kr/starter/PassAssay/View/200633?Page=4&OrderBy=0&FavorCo_Stat=0&schPart=10021&Pass_An_Stat=0', 'https://www.jobkorea.co.kr/starter/PassAssay/View/200319?Page=4&OrderBy=0&FavorCo_Stat=0&schPart=10021&Pass_An_Stat=0', 'https://www.jobkorea.co.kr/starter/PassAssay/View/197871?Page=5&OrderBy=0&FavorCo_Stat=0&schPart=10021&Pass_An_Stat=0', 'https://www.jobkorea.co.kr/starter/PassAssay/View/200334?Page=5&OrderBy=0&FavorCo_Stat=0&schPart=10021&Pass_An_Stat=0', 'https://www.jobkorea.co.kr/starter/PassAssay/View/200554?Page=5&OrderBy=0&FavorCo_Stat=0&schPart=10021&Pass_An_Stat=0', 'https://www.jobkorea.co.kr/starter/PassAssay/View/200003?Page=5&OrderBy=0&FavorCo_Stat=0&schPart=10021&Pass_An_Stat=0', 'https://www.jobkorea.co.kr/starter/PassAssay/View/200166?Page=5&OrderBy=0&FavorCo_Stat=0&schPart=10021&Pass_An_Stat=0', 'https://www.jobkorea.co.kr/starter/PassAssay/View/199711?Page=5&OrderBy=0&FavorCo_Stat=0&schPart=10021&Pass_An_Stat=0', 'https://www.jobkorea.co.kr/starter/PassAssay/View/199760?Page=5&OrderBy=0&FavorCo_Stat=0&schPart=10021&Pass_An_Stat=0', 'https://www.jobkorea.co.kr/starter/PassAssay/View/199822?Page=5&OrderBy=0&FavorCo_Stat=0&schPart=10021&Pass_An_Stat=0', 'https://www.jobkorea.co.kr/starter/PassAssay/View/199849?Page=5&OrderBy=0&FavorCo_Stat=0&schPart=10021&Pass_An_Stat=0', 'https://www.jobkorea.co.kr/starter/PassAssay/View/199246?Page=5&OrderBy=0&FavorCo_Stat=0&schPart=10021&Pass_An_Stat=0', 'https://www.jobkorea.co.kr/starter/PassAssay/View/199619?Page=5&OrderBy=0&FavorCo_Stat=0&schPart=10021&Pass_An_Stat=0', 'https://www.jobkorea.co.kr/starter/PassAssay/View/199514?Page=5&OrderBy=0&FavorCo_Stat=0&schPart=10021&Pass_An_Stat=0', 'https://www.jobkorea.co.kr/starter/PassAssay/View/199564?Page=5&OrderBy=0&FavorCo_Stat=0&schPart=10021&Pass_An_Stat=0', 'https://www.jobkorea.co.kr/starter/PassAssay/View/199588?Page=5&OrderBy=0&FavorCo_Stat=0&schPart=10021&Pass_An_Stat=0', 'https://www.jobkorea.co.kr/starter/PassAssay/View/199338?Page=5&OrderBy=0&FavorCo_Stat=0&schPart=10021&Pass_An_Stat=0', 'https://www.jobkorea.co.kr/starter/PassAssay/View/199379?Page=5&OrderBy=0&FavorCo_Stat=0&schPart=10021&Pass_An_Stat=0', 'https://www.jobkorea.co.kr/starter/PassAssay/View/199189?Page=5&OrderBy=0&FavorCo_Stat=0&schPart=10021&Pass_An_Stat=0', 'https://www.jobkorea.co.kr/starter/PassAssay/View/198886?Page=5&OrderBy=0&FavorCo_Stat=0&schPart=10021&Pass_An_Stat=0', 'https://www.jobkorea.co.kr/starter/PassAssay/View/198888?Page=5&OrderBy=0&FavorCo_Stat=0&schPart=10021&Pass_An_Stat=0', 'https://www.jobkorea.co.kr/starter/PassAssay/View/198891?Page=5&OrderBy=0&FavorCo_Stat=0&schPart=10021&Pass_An_Stat=0', 'https://www.jobkorea.co.kr/starter/PassAssay/View/198892?Page=6&OrderBy=0&FavorCo_Stat=0&schPart=10021&Pass_An_Stat=0', 'https://www.jobkorea.co.kr/starter/PassAssay/View/198894?Page=6&OrderBy=0&FavorCo_Stat=0&schPart=10021&Pass_An_Stat=0', 'https://www.jobkorea.co.kr/starter/PassAssay/View/198895?Page=6&OrderBy=0&FavorCo_Stat=0&schPart=10021&Pass_An_Stat=0', 'https://www.jobkorea.co.kr/starter/PassAssay/View/198896?Page=6&OrderBy=0&FavorCo_Stat=0&schPart=10021&Pass_An_Stat=0', 'https://www.jobkorea.co.kr/starter/PassAssay/View/198735?Page=6&OrderBy=0&FavorCo_Stat=0&schPart=10021&Pass_An_Stat=0', 'https://www.jobkorea.co.kr/starter/PassAssay/View/198457?Page=6&OrderBy=0&FavorCo_Stat=0&schPart=10021&Pass_An_Stat=0', 'https://www.jobkorea.co.kr/starter/PassAssay/View/198305?Page=6&OrderBy=0&FavorCo_Stat=0&schPart=10021&Pass_An_Stat=0', 'https://www.jobkorea.co.kr/starter/PassAssay/View/198315?Page=6&OrderBy=0&FavorCo_Stat=0&schPart=10021&Pass_An_Stat=0', 'https://www.jobkorea.co.kr/starter/PassAssay/View/198318?Page=6&OrderBy=0&FavorCo_Stat=0&schPart=10021&Pass_An_Stat=0', 'https://www.jobkorea.co.kr/starter/PassAssay/View/197872?Page=6&OrderBy=0&FavorCo_Stat=0&schPart=10021&Pass_An_Stat=0', 'https://www.jobkorea.co.kr/starter/PassAssay/View/197637?Page=6&OrderBy=0&FavorCo_Stat=0&schPart=10021&Pass_An_Stat=0', 'https://www.jobkorea.co.kr/starter/PassAssay/View/197640?Page=6&OrderBy=0&FavorCo_Stat=0&schPart=10021&Pass_An_Stat=0', 'https://www.jobkorea.co.kr/starter/PassAssay/View/198561?Page=6&OrderBy=0&FavorCo_Stat=0&schPart=10021&Pass_An_Stat=0', 'https://www.jobkorea.co.kr/starter/PassAssay/View/197728?Page=6&OrderBy=0&FavorCo_Stat=0&schPart=10021&Pass_An_Stat=0', 'https://www.jobkorea.co.kr/starter/PassAssay/View/197780?Page=6&OrderBy=0&FavorCo_Stat=0&schPart=10021&Pass_An_Stat=0', 'https://www.jobkorea.co.kr/starter/PassAssay/View/196900?Page=6&OrderBy=0&FavorCo_Stat=0&schPart=10021&Pass_An_Stat=0', 'https://www.jobkorea.co.kr/starter/PassAssay/View/196902?Page=6&OrderBy=0&FavorCo_Stat=0&schPart=10021&Pass_An_Stat=0', 'https://www.jobkorea.co.kr/starter/PassAssay/View/196904?Page=6&OrderBy=0&FavorCo_Stat=0&schPart=10021&Pass_An_Stat=0', 'https://www.jobkorea.co.kr/starter/PassAssay/View/237412?Page=6&OrderBy=0&FavorCo_Stat=0&schPart=10021&Pass_An_Stat=0', 'https://www.jobkorea.co.kr/starter/PassAssay/View/196891?Page=6&OrderBy=0&FavorCo_Stat=0&schPart=10021&Pass_An_Stat=0', 'https://www.jobkorea.co.kr/starter/PassAssay/View/196895?Page=7&OrderBy=0&FavorCo_Stat=0&schPart=10021&Pass_An_Stat=0', 'https://www.jobkorea.co.kr/starter/PassAssay/View/196909?Page=7&OrderBy=0&FavorCo_Stat=0&schPart=10021&Pass_An_Stat=0', 'https://www.jobkorea.co.kr/starter/PassAssay/View/196913?Page=7&OrderBy=0&FavorCo_Stat=0&schPart=10021&Pass_An_Stat=0', 'https://www.jobkorea.co.kr/starter/PassAssay/View/196719?Page=7&OrderBy=0&FavorCo_Stat=0&schPart=10021&Pass_An_Stat=0', 'https://www.jobkorea.co.kr/starter/PassAssay/View/196190?Page=7&OrderBy=0&FavorCo_Stat=0&schPart=10021&Pass_An_Stat=0', 'https://www.jobkorea.co.kr/starter/PassAssay/View/196191?Page=7&OrderBy=0&FavorCo_Stat=0&schPart=10021&Pass_An_Stat=0', 'https://www.jobkorea.co.kr/starter/PassAssay/View/196300?Page=7&OrderBy=0&FavorCo_Stat=0&schPart=10021&Pass_An_Stat=0', 'https://www.jobkorea.co.kr/starter/PassAssay/View/196052?Page=7&OrderBy=0&FavorCo_Stat=0&schPart=10021&Pass_An_Stat=0', 'https://www.jobkorea.co.kr/starter/PassAssay/View/195632?Page=7&OrderBy=0&FavorCo_Stat=0&schPart=10021&Pass_An_Stat=0', 'https://www.jobkorea.co.kr/starter/PassAssay/View/195499?Page=7&OrderBy=0&FavorCo_Stat=0&schPart=10021&Pass_An_Stat=0', 'https://www.jobkorea.co.kr/starter/PassAssay/View/195155?Page=7&OrderBy=0&FavorCo_Stat=0&schPart=10021&Pass_An_Stat=0', 'https://www.jobkorea.co.kr/starter/PassAssay/View/195158?Page=7&OrderBy=0&FavorCo_Stat=0&schPart=10021&Pass_An_Stat=0', 'https://www.jobkorea.co.kr/starter/PassAssay/View/194892?Page=7&OrderBy=0&FavorCo_Stat=0&schPart=10021&Pass_An_Stat=0', 'https://www.jobkorea.co.kr/starter/PassAssay/View/194856?Page=7&OrderBy=0&FavorCo_Stat=0&schPart=10021&Pass_An_Stat=0', 'https://www.jobkorea.co.kr/starter/PassAssay/View/194501?Page=7&OrderBy=0&FavorCo_Stat=0&schPart=10021&Pass_An_Stat=0', 'https://www.jobkorea.co.kr/starter/PassAssay/View/194033?Page=7&OrderBy=0&FavorCo_Stat=0&schPart=10021&Pass_An_Stat=0', 'https://www.jobkorea.co.kr/starter/PassAssay/View/194227?Page=7&OrderBy=0&FavorCo_Stat=0&schPart=10021&Pass_An_Stat=0', 'https://www.jobkorea.co.kr/starter/PassAssay/View/194027?Page=7&OrderBy=0&FavorCo_Stat=0&schPart=10021&Pass_An_Stat=0', 'https://www.jobkorea.co.kr/starter/PassAssay/View/194483?Page=7&OrderBy=0&FavorCo_Stat=0&schPart=10021&Pass_An_Stat=0', 'https://www.jobkorea.co.kr/starter/PassAssay/View/193171?Page=7&OrderBy=0&FavorCo_Stat=0&schPart=10021&Pass_An_Stat=0', 'https://www.jobkorea.co.kr/starter/PassAssay/View/193516?Page=8&OrderBy=0&FavorCo_Stat=0&schPart=10021&Pass_An_Stat=0', 'https://www.jobkorea.co.kr/starter/PassAssay/View/193611?Page=8&OrderBy=0&FavorCo_Stat=0&schPart=10021&Pass_An_Stat=0', 'https://www.jobkorea.co.kr/starter/PassAssay/View/193612?Page=8&OrderBy=0&FavorCo_Stat=0&schPart=10021&Pass_An_Stat=0', 'https://www.jobkorea.co.kr/starter/PassAssay/View/193613?Page=8&OrderBy=0&FavorCo_Stat=0&schPart=10021&Pass_An_Stat=0', 'https://www.jobkorea.co.kr/starter/PassAssay/View/193614?Page=8&OrderBy=0&FavorCo_Stat=0&schPart=10021&Pass_An_Stat=0', 'https://www.jobkorea.co.kr/starter/PassAssay/View/193785?Page=8&OrderBy=0&FavorCo_Stat=0&schPart=10021&Pass_An_Stat=0', 'https://www.jobkorea.co.kr/starter/PassAssay/View/193929?Page=8&OrderBy=0&FavorCo_Stat=0&schPart=10021&Pass_An_Stat=0', 'https://www.jobkorea.co.kr/starter/PassAssay/View/193781?Page=8&OrderBy=0&FavorCo_Stat=0&schPart=10021&Pass_An_Stat=0', 'https://www.jobkorea.co.kr/starter/PassAssay/View/193981?Page=8&OrderBy=0&FavorCo_Stat=0&schPart=10021&Pass_An_Stat=0', 'https://www.jobkorea.co.kr/starter/PassAssay/View/192749?Page=8&OrderBy=0&FavorCo_Stat=0&schPart=10021&Pass_An_Stat=0', 'https://www.jobkorea.co.kr/starter/PassAssay/View/192826?Page=8&OrderBy=0&FavorCo_Stat=0&schPart=10021&Pass_An_Stat=0', 'https://www.jobkorea.co.kr/starter/PassAssay/View/192750?Page=8&OrderBy=0&FavorCo_Stat=0&schPart=10021&Pass_An_Stat=0', 'https://www.jobkorea.co.kr/starter/PassAssay/View/192531?Page=8&OrderBy=0&FavorCo_Stat=0&schPart=10021&Pass_An_Stat=0', 'https://www.jobkorea.co.kr/starter/PassAssay/View/192534?Page=8&OrderBy=0&FavorCo_Stat=0&schPart=10021&Pass_An_Stat=0', 'https://www.jobkorea.co.kr/starter/PassAssay/View/192537?Page=8&OrderBy=0&FavorCo_Stat=0&schPart=10021&Pass_An_Stat=0', 'https://www.jobkorea.co.kr/starter/PassAssay/View/192538?Page=8&OrderBy=0&FavorCo_Stat=0&schPart=10021&Pass_An_Stat=0', 'https://www.jobkorea.co.kr/starter/PassAssay/View/192539?Page=8&OrderBy=0&FavorCo_Stat=0&schPart=10021&Pass_An_Stat=0', 'https://www.jobkorea.co.kr/starter/PassAssay/View/192540?Page=8&OrderBy=0&FavorCo_Stat=0&schPart=10021&Pass_An_Stat=0', 'https://www.jobkorea.co.kr/starter/PassAssay/View/192541?Page=8&OrderBy=0&FavorCo_Stat=0&schPart=10021&Pass_An_Stat=0', 'https://www.jobkorea.co.kr/starter/PassAssay/View/192542?Page=8&OrderBy=0&FavorCo_Stat=0&schPart=10021&Pass_An_Stat=0', 'https://www.jobkorea.co.kr/starter/PassAssay/View/192145?Page=9&OrderBy=0&FavorCo_Stat=0&schPart=10021&Pass_An_Stat=0', 'https://www.jobkorea.co.kr/starter/PassAssay/View/191878?Page=9&OrderBy=0&FavorCo_Stat=0&schPart=10021&Pass_An_Stat=0', 'https://www.jobkorea.co.kr/starter/PassAssay/View/191899?Page=9&OrderBy=0&FavorCo_Stat=0&schPart=10021&Pass_An_Stat=0', 'https://www.jobkorea.co.kr/starter/PassAssay/View/191900?Page=9&OrderBy=0&FavorCo_Stat=0&schPart=10021&Pass_An_Stat=0', 'https://www.jobkorea.co.kr/starter/PassAssay/View/191117?Page=9&OrderBy=0&FavorCo_Stat=0&schPart=10021&Pass_An_Stat=0', 'https://www.jobkorea.co.kr/starter/PassAssay/View/191127?Page=9&OrderBy=0&FavorCo_Stat=0&schPart=10021&Pass_An_Stat=0', 'https://www.jobkorea.co.kr/starter/PassAssay/View/191344?Page=9&OrderBy=0&FavorCo_Stat=0&schPart=10021&Pass_An_Stat=0', 'https://www.jobkorea.co.kr/starter/PassAssay/View/190140?Page=9&OrderBy=0&FavorCo_Stat=0&schPart=10021&Pass_An_Stat=0', 'https://www.jobkorea.co.kr/starter/PassAssay/View/190141?Page=9&OrderBy=0&FavorCo_Stat=0&schPart=10021&Pass_An_Stat=0', 'https://www.jobkorea.co.kr/starter/PassAssay/View/190142?Page=9&OrderBy=0&FavorCo_Stat=0&schPart=10021&Pass_An_Stat=0', 'https://www.jobkorea.co.kr/starter/PassAssay/View/190144?Page=9&OrderBy=0&FavorCo_Stat=0&schPart=10021&Pass_An_Stat=0', 'https://www.jobkorea.co.kr/starter/PassAssay/View/190017?Page=9&OrderBy=0&FavorCo_Stat=0&schPart=10021&Pass_An_Stat=0', 'https://www.jobkorea.co.kr/starter/PassAssay/View/190265?Page=9&OrderBy=0&FavorCo_Stat=0&schPart=10021&Pass_An_Stat=0', 'https://www.jobkorea.co.kr/starter/PassAssay/View/189677?Page=9&OrderBy=0&FavorCo_Stat=0&schPart=10021&Pass_An_Stat=0', 'https://www.jobkorea.co.kr/starter/PassAssay/View/190015?Page=9&OrderBy=0&FavorCo_Stat=0&schPart=10021&Pass_An_Stat=0', 'https://www.jobkorea.co.kr/starter/PassAssay/View/190317?Page=9&OrderBy=0&FavorCo_Stat=0&schPart=10021&Pass_An_Stat=0', 'https://www.jobkorea.co.kr/starter/PassAssay/View/190328?Page=9&OrderBy=0&FavorCo_Stat=0&schPart=10021&Pass_An_Stat=0', 'https://www.jobkorea.co.kr/starter/PassAssay/View/190355?Page=9&OrderBy=0&FavorCo_Stat=0&schPart=10021&Pass_An_Stat=0', 'https://www.jobkorea.co.kr/starter/PassAssay/View/189664?Page=9&OrderBy=0&FavorCo_Stat=0&schPart=10021&Pass_An_Stat=0', 'https://www.jobkorea.co.kr/starter/PassAssay/View/144723?Page=9&OrderBy=0&FavorCo_Stat=0&schPart=10021&Pass_An_Stat=0', 'https://www.jobkorea.co.kr/starter/PassAssay/View/167687?Page=10&OrderBy=0&FavorCo_Stat=0&schPart=10021&Pass_An_Stat=0', 'https://www.jobkorea.co.kr/starter/PassAssay/View/188495?Page=10&OrderBy=0&FavorCo_Stat=0&schPart=10021&Pass_An_Stat=0', 'https://www.jobkorea.co.kr/starter/PassAssay/View/188496?Page=10&OrderBy=0&FavorCo_Stat=0&schPart=10021&Pass_An_Stat=0', 'https://www.jobkorea.co.kr/starter/PassAssay/View/146412?Page=10&OrderBy=0&FavorCo_Stat=0&schPart=10021&Pass_An_Stat=0', 'https://www.jobkorea.co.kr/starter/PassAssay/View/167994?Page=10&OrderBy=0&FavorCo_Stat=0&schPart=10021&Pass_An_Stat=0', 'https://www.jobkorea.co.kr/starter/PassAssay/View/167213?Page=10&OrderBy=0&FavorCo_Stat=0&schPart=10021&Pass_An_Stat=0', 'https://www.jobkorea.co.kr/starter/PassAssay/View/90338?Page=10&OrderBy=0&FavorCo_Stat=0&schPart=10021&Pass_An_Stat=0', 'https://www.jobkorea.co.kr/starter/PassAssay/View/90389?Page=10&OrderBy=0&FavorCo_Stat=0&schPart=10021&Pass_An_Stat=0', 'https://www.jobkorea.co.kr/starter/PassAssay/View/90394?Page=10&OrderBy=0&FavorCo_Stat=0&schPart=10021&Pass_An_Stat=0', 'https://www.jobkorea.co.kr/starter/PassAssay/View/167108?Page=10&OrderBy=0&FavorCo_Stat=0&schPart=10021&Pass_An_Stat=0', 'https://www.jobkorea.co.kr/starter/PassAssay/View/90318?Page=10&OrderBy=0&FavorCo_Stat=0&schPart=10021&Pass_An_Stat=0', 'https://www.jobkorea.co.kr/starter/PassAssay/View/167145?Page=10&OrderBy=0&FavorCo_Stat=0&schPart=10021&Pass_An_Stat=0', 'https://www.jobkorea.co.kr/starter/PassAssay/View/90272?Page=10&OrderBy=0&FavorCo_Stat=0&schPart=10021&Pass_An_Stat=0', 'https://www.jobkorea.co.kr/starter/PassAssay/View/90274?Page=10&OrderBy=0&FavorCo_Stat=0&schPart=10021&Pass_An_Stat=0', 'https://www.jobkorea.co.kr/starter/PassAssay/View/90281?Page=10&OrderBy=0&FavorCo_Stat=0&schPart=10021&Pass_An_Stat=0', 'https://www.jobkorea.co.kr/starter/PassAssay/View/167006?Page=10&OrderBy=0&FavorCo_Stat=0&schPart=10021&Pass_An_Stat=0', 'https://www.jobkorea.co.kr/starter/PassAssay/View/167011?Page=10&OrderBy=0&FavorCo_Stat=0&schPart=10021&Pass_An_Stat=0', 'https://www.jobkorea.co.kr/starter/PassAssay/View/167012?Page=10&OrderBy=0&FavorCo_Stat=0&schPart=10021&Pass_An_Stat=0', 'https://www.jobkorea.co.kr/starter/PassAssay/View/167015?Page=10&OrderBy=0&FavorCo_Stat=0&schPart=10021&Pass_An_Stat=0', 'https://www.jobkorea.co.kr/starter/PassAssay/View/167013?Page=10&OrderBy=0&FavorCo_Stat=0&schPart=10021&Pass_An_Stat=0']\n"
          ]
        }
      ]
    },
    {
      "cell_type": "code",
      "source": [
        "len(jobkorea_urls)"
      ],
      "metadata": {
        "id": "aKnvsANEgQvT",
        "outputId": "68214977-ddbb-43f6-e502-b3106c66a9e8",
        "colab": {
          "base_uri": "https://localhost:8080/"
        }
      },
      "execution_count": 29,
      "outputs": [
        {
          "output_type": "execute_result",
          "data": {
            "text/plain": [
              "200"
            ]
          },
          "metadata": {},
          "execution_count": 29
        }
      ]
    },
    {
      "cell_type": "code",
      "source": [
        "###다음 기사 본문 및 제목 가져오기###\n",
        "\n",
        "\n",
        "questions = []\n",
        "contents = []\n",
        "companys = []\n",
        "\n",
        "for i in jobkorea_urls:\n",
        "    \n",
        "    response = requests.get(i)\n",
        "    soup = BeautifulSoup(response.text, 'html5lib') # 응답을 html 문서를 파싱하고 직렬화\n",
        "    \n",
        "    # 문항 가져오기\n",
        "    question = soup.select('dt.on')\n",
        "    # list합치기\n",
        "    question = ''.join(str(question))\n",
        "    # html태그제거\n",
        "    question = re.sub('(<([^>]+)>)', '', question)\n",
        "    question = re.sub(' ', '', question)\n",
        "    question = re.sub('\\n', '', question)\n",
        "    questions.append(question)\n",
        "\n",
        "\n",
        "\n",
        "    # 답변 가져오기\n",
        "    content = soup.select('dl.qnaLists > dd.show > div.tx')\n",
        "    # list합치기\n",
        "    content = ''.join(str(content))\n",
        "    #html태그제거 및 텍스트 다듬기\n",
        "    content = re.sub('(<([^>]+)>)', '', content)\n",
        "    content = re.sub('\\n', '', content)\n",
        "    contents.append(content)\n",
        "\n",
        "    #회사명 가져오기\n",
        "    company = soup.select('div.selfTopBx > div.viewTitWrap > h2.hd > strong > a')\n",
        "    # list합치기\n",
        "    company = ''.join(str(company))\n",
        "    #html태그제거 및 텍스트 다듬기\n",
        "    company = re.sub('(<([^>]+)>)', '', company)\n",
        "    companys.append(company)\n",
        "\n",
        "  \n",
        "print(questions)\n",
        "print(contents)\n",
        "print(companys)"
      ],
      "metadata": {
        "id": "cSdC0mXPJc3W"
      },
      "execution_count": null,
      "outputs": []
    },
    {
      "cell_type": "markdown",
      "source": [
        "# text(직무명)"
      ],
      "metadata": {
        "id": "E331TZxIOi_u"
      }
    },
    {
      "cell_type": "code",
      "source": [
        "import pandas as pd\n",
        "\n",
        "text = '건설' #파일 이름 바꾸기\n",
        "\n",
        "resume_df = pd.DataFrame({'question': questions,'answer': contents, 'company':companys})\n",
        "\n",
        "resume_df.to_csv('%s.csv'%text, index=False,encoding='utf-8-sig') "
      ],
      "metadata": {
        "id": "Qs-3cMRGgkn6"
      },
      "execution_count": 31,
      "outputs": []
    },
    {
      "cell_type": "code",
      "source": [
        "resume_df"
      ],
      "metadata": {
        "id": "xVLPsfCKhB9n"
      },
      "execution_count": null,
      "outputs": []
    },
    {
      "cell_type": "markdown",
      "source": [
        "파일 합칠때 코드"
      ],
      "metadata": {
        "id": "Vwj4jJ9VkJDu"
      }
    }
  ]
}